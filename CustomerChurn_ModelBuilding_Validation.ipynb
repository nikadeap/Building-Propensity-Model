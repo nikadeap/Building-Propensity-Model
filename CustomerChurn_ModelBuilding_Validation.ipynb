{
 "cells": [
  {
   "cell_type": "code",
   "execution_count": 1,
   "metadata": {},
   "outputs": [
    {
     "name": "stderr",
     "output_type": "stream",
     "text": [
      "c:\\users\\harish\\anaconda3\\lib\\site-packages\\sklearn\\cross_validation.py:41: DeprecationWarning: This module was deprecated in version 0.18 in favor of the model_selection module into which all the refactored classes and functions are moved. Also note that the interface of the new CV iterators are different from that of this module. This module will be removed in 0.20.\n",
      "  \"This module will be removed in 0.20.\", DeprecationWarning)\n"
     ]
    }
   ],
   "source": [
    "from collections import Counter\n",
    "from sklearn.datasets import make_classification\n",
    "from imblearn.over_sampling import SMOTE \n",
    "from sklearn.cross_validation import train_test_split\n",
    "from sklearn import metrics\n",
    "from sklearn.cross_validation import cross_val_score\n",
    "from sklearn.feature_selection import RFE\n",
    "from sklearn.linear_model import LogisticRegression\n",
    "from sklearn.linear_model import LogisticRegressionCV\n",
    "from sklearn import metrics\n",
    "from sklearn import model_selection\n",
    "from sklearn.model_selection import cross_val_score\n",
    "from sklearn.metrics import roc_auc_score\n",
    "from sklearn.metrics import roc_curve\n",
    "from sklearn.metrics import classification_report\n",
    "from sklearn import svm\n",
    "#Normalise the data using sklearn library\n",
    "from sklearn import preprocessing\n",
    "from sklearn.linear_model import Ridge\n",
    "from sklearn.linear_model import Lasso\n",
    "from sklearn.linear_model import LassoCV\n",
    "from sklearn.ensemble import RandomForestClassifier\n",
    "from sklearn.feature_selection import SelectFromModel\n",
    "from sklearn.metrics import accuracy_score\n",
    "from sklearn.metrics import confusion_matrix"
   ]
  },
  {
   "cell_type": "code",
   "execution_count": 2,
   "metadata": {},
   "outputs": [],
   "source": [
    "import numpy as np\n",
    "import pandas as pd\n",
    "import matplotlib.pyplot as plt\n",
    "%matplotlib inline"
   ]
  },
  {
   "cell_type": "markdown",
   "metadata": {},
   "source": [
    "#### Load Training dataset"
   ]
  },
  {
   "cell_type": "code",
   "execution_count": 3,
   "metadata": {},
   "outputs": [],
   "source": [
    "training_df = pd.read_csv('VMWareTrainingData.csv')"
   ]
  },
  {
   "cell_type": "code",
   "execution_count": 4,
   "metadata": {},
   "outputs": [],
   "source": [
    "\n",
    "# training_df= training_df.reset_index()\n",
    "training_df= training_df.drop('ID',axis=1)\n"
   ]
  },
  {
   "cell_type": "code",
   "execution_count": 5,
   "metadata": {},
   "outputs": [
    {
     "data": {
      "text/html": [
       "<div>\n",
       "<style>\n",
       "    .dataframe thead tr:only-child th {\n",
       "        text-align: right;\n",
       "    }\n",
       "\n",
       "    .dataframe thead th {\n",
       "        text-align: left;\n",
       "    }\n",
       "\n",
       "    .dataframe tbody tr th {\n",
       "        vertical-align: top;\n",
       "    }\n",
       "</style>\n",
       "<table border=\"1\" class=\"dataframe\">\n",
       "  <thead>\n",
       "    <tr style=\"text-align: right;\">\n",
       "      <th></th>\n",
       "      <th>tot_page_views</th>\n",
       "      <th>tot_page_views_l30d</th>\n",
       "      <th>tot_page_views_l90d</th>\n",
       "      <th>tot_visits</th>\n",
       "      <th>tot_visits_l30d</th>\n",
       "      <th>tot_visits_l90d</th>\n",
       "      <th>internal_search_events</th>\n",
       "      <th>buy_now_events</th>\n",
       "      <th>download_trial_events</th>\n",
       "      <th>support_search_events</th>\n",
       "      <th>...</th>\n",
       "      <th>ftr_growth_prodA_ent_12_13</th>\n",
       "      <th>ftr_growth_prodA_ent_plus_12_13</th>\n",
       "      <th>ftr_growth_prodA_5_x_13_14</th>\n",
       "      <th>ftr_growth_prodA_std_13_14</th>\n",
       "      <th>ftr_growth_prodA_ent_13_14</th>\n",
       "      <th>ftr_growth_prodA_ent_plus_13_14</th>\n",
       "      <th>ftr_growth_prodA_5_x_14_15</th>\n",
       "      <th>ftr_growth_prodA_std_14_15</th>\n",
       "      <th>ftr_growth_prodA_ent_14_15</th>\n",
       "      <th>ftr_growth_prodA_ent_plus_14_15</th>\n",
       "    </tr>\n",
       "  </thead>\n",
       "  <tbody>\n",
       "    <tr>\n",
       "      <th>0</th>\n",
       "      <td>3</td>\n",
       "      <td>0</td>\n",
       "      <td>0</td>\n",
       "      <td>2</td>\n",
       "      <td>0</td>\n",
       "      <td>0</td>\n",
       "      <td>0</td>\n",
       "      <td>0</td>\n",
       "      <td>0</td>\n",
       "      <td>0</td>\n",
       "      <td>...</td>\n",
       "      <td>-1.0</td>\n",
       "      <td>-1</td>\n",
       "      <td>-1.0</td>\n",
       "      <td>-1.0</td>\n",
       "      <td>-1.0</td>\n",
       "      <td>-1.0</td>\n",
       "      <td>-1.0</td>\n",
       "      <td>-1.0</td>\n",
       "      <td>-1.0</td>\n",
       "      <td>-1.0</td>\n",
       "    </tr>\n",
       "    <tr>\n",
       "      <th>1</th>\n",
       "      <td>1</td>\n",
       "      <td>0</td>\n",
       "      <td>0</td>\n",
       "      <td>1</td>\n",
       "      <td>0</td>\n",
       "      <td>0</td>\n",
       "      <td>0</td>\n",
       "      <td>0</td>\n",
       "      <td>0</td>\n",
       "      <td>0</td>\n",
       "      <td>...</td>\n",
       "      <td>-1.0</td>\n",
       "      <td>-1</td>\n",
       "      <td>-1.0</td>\n",
       "      <td>-1.0</td>\n",
       "      <td>-1.0</td>\n",
       "      <td>-1.0</td>\n",
       "      <td>-1.0</td>\n",
       "      <td>-1.0</td>\n",
       "      <td>-1.0</td>\n",
       "      <td>-1.0</td>\n",
       "    </tr>\n",
       "    <tr>\n",
       "      <th>2</th>\n",
       "      <td>1</td>\n",
       "      <td>0</td>\n",
       "      <td>0</td>\n",
       "      <td>1</td>\n",
       "      <td>0</td>\n",
       "      <td>0</td>\n",
       "      <td>0</td>\n",
       "      <td>0</td>\n",
       "      <td>0</td>\n",
       "      <td>0</td>\n",
       "      <td>...</td>\n",
       "      <td>-1.0</td>\n",
       "      <td>-1</td>\n",
       "      <td>-1.0</td>\n",
       "      <td>-1.0</td>\n",
       "      <td>-1.0</td>\n",
       "      <td>-1.0</td>\n",
       "      <td>-1.0</td>\n",
       "      <td>-1.0</td>\n",
       "      <td>-1.0</td>\n",
       "      <td>-1.0</td>\n",
       "    </tr>\n",
       "    <tr>\n",
       "      <th>3</th>\n",
       "      <td>2</td>\n",
       "      <td>0</td>\n",
       "      <td>0</td>\n",
       "      <td>2</td>\n",
       "      <td>0</td>\n",
       "      <td>0</td>\n",
       "      <td>0</td>\n",
       "      <td>0</td>\n",
       "      <td>0</td>\n",
       "      <td>0</td>\n",
       "      <td>...</td>\n",
       "      <td>-1.0</td>\n",
       "      <td>-1</td>\n",
       "      <td>-1.0</td>\n",
       "      <td>-1.0</td>\n",
       "      <td>-1.0</td>\n",
       "      <td>-1.0</td>\n",
       "      <td>-1.0</td>\n",
       "      <td>-1.0</td>\n",
       "      <td>-1.0</td>\n",
       "      <td>-1.0</td>\n",
       "    </tr>\n",
       "    <tr>\n",
       "      <th>4</th>\n",
       "      <td>1</td>\n",
       "      <td>0</td>\n",
       "      <td>0</td>\n",
       "      <td>1</td>\n",
       "      <td>0</td>\n",
       "      <td>0</td>\n",
       "      <td>0</td>\n",
       "      <td>0</td>\n",
       "      <td>0</td>\n",
       "      <td>0</td>\n",
       "      <td>...</td>\n",
       "      <td>-1.0</td>\n",
       "      <td>-1</td>\n",
       "      <td>-1.0</td>\n",
       "      <td>-1.0</td>\n",
       "      <td>-1.0</td>\n",
       "      <td>-1.0</td>\n",
       "      <td>-1.0</td>\n",
       "      <td>-1.0</td>\n",
       "      <td>-1.0</td>\n",
       "      <td>-1.0</td>\n",
       "    </tr>\n",
       "  </tbody>\n",
       "</table>\n",
       "<p>5 rows × 383 columns</p>\n",
       "</div>"
      ],
      "text/plain": [
       "   tot_page_views  tot_page_views_l30d  tot_page_views_l90d  tot_visits  \\\n",
       "0               3                    0                    0           2   \n",
       "1               1                    0                    0           1   \n",
       "2               1                    0                    0           1   \n",
       "3               2                    0                    0           2   \n",
       "4               1                    0                    0           1   \n",
       "\n",
       "   tot_visits_l30d  tot_visits_l90d  internal_search_events  buy_now_events  \\\n",
       "0                0                0                       0               0   \n",
       "1                0                0                       0               0   \n",
       "2                0                0                       0               0   \n",
       "3                0                0                       0               0   \n",
       "4                0                0                       0               0   \n",
       "\n",
       "   download_trial_events  support_search_events  \\\n",
       "0                      0                      0   \n",
       "1                      0                      0   \n",
       "2                      0                      0   \n",
       "3                      0                      0   \n",
       "4                      0                      0   \n",
       "\n",
       "                ...                 ftr_growth_prodA_ent_12_13  \\\n",
       "0               ...                                       -1.0   \n",
       "1               ...                                       -1.0   \n",
       "2               ...                                       -1.0   \n",
       "3               ...                                       -1.0   \n",
       "4               ...                                       -1.0   \n",
       "\n",
       "   ftr_growth_prodA_ent_plus_12_13  ftr_growth_prodA_5_x_13_14  \\\n",
       "0                               -1                        -1.0   \n",
       "1                               -1                        -1.0   \n",
       "2                               -1                        -1.0   \n",
       "3                               -1                        -1.0   \n",
       "4                               -1                        -1.0   \n",
       "\n",
       "   ftr_growth_prodA_std_13_14  ftr_growth_prodA_ent_13_14  \\\n",
       "0                        -1.0                        -1.0   \n",
       "1                        -1.0                        -1.0   \n",
       "2                        -1.0                        -1.0   \n",
       "3                        -1.0                        -1.0   \n",
       "4                        -1.0                        -1.0   \n",
       "\n",
       "   ftr_growth_prodA_ent_plus_13_14  ftr_growth_prodA_5_x_14_15  \\\n",
       "0                             -1.0                        -1.0   \n",
       "1                             -1.0                        -1.0   \n",
       "2                             -1.0                        -1.0   \n",
       "3                             -1.0                        -1.0   \n",
       "4                             -1.0                        -1.0   \n",
       "\n",
       "   ftr_growth_prodA_std_14_15  ftr_growth_prodA_ent_14_15  \\\n",
       "0                        -1.0                        -1.0   \n",
       "1                        -1.0                        -1.0   \n",
       "2                        -1.0                        -1.0   \n",
       "3                        -1.0                        -1.0   \n",
       "4                        -1.0                        -1.0   \n",
       "\n",
       "   ftr_growth_prodA_ent_plus_14_15  \n",
       "0                             -1.0  \n",
       "1                             -1.0  \n",
       "2                             -1.0  \n",
       "3                             -1.0  \n",
       "4                             -1.0  \n",
       "\n",
       "[5 rows x 383 columns]"
      ]
     },
     "execution_count": 5,
     "metadata": {},
     "output_type": "execute_result"
    }
   ],
   "source": [
    "training_df.head()"
   ]
  },
  {
   "cell_type": "code",
   "execution_count": 6,
   "metadata": {},
   "outputs": [
    {
     "data": {
      "text/plain": [
       "(99999, 383)"
      ]
     },
     "execution_count": 6,
     "metadata": {},
     "output_type": "execute_result"
    }
   ],
   "source": [
    "training_df.shape"
   ]
  },
  {
   "cell_type": "markdown",
   "metadata": {},
   "source": [
    "#### Below barplot shows that dataset is imbalanced"
   ]
  },
  {
   "cell_type": "code",
   "execution_count": 7,
   "metadata": {},
   "outputs": [
    {
     "data": {
      "text/plain": [
       "0    96499\n",
       "1     3500\n",
       "Name: train_period_workstation_purchase_flag, dtype: int64"
      ]
     },
     "execution_count": 7,
     "metadata": {},
     "output_type": "execute_result"
    }
   ],
   "source": [
    "training_df['train_period_workstation_purchase_flag'].value_counts()"
   ]
  },
  {
   "cell_type": "code",
   "execution_count": 8,
   "metadata": {},
   "outputs": [
    {
     "data": {
      "text/plain": [
       "<matplotlib.axes._subplots.AxesSubplot at 0x1ca4d481b00>"
      ]
     },
     "execution_count": 8,
     "metadata": {},
     "output_type": "execute_result"
    },
    {
     "data": {
      "image/png": "[encoded data removed]",
      "text/plain": [
       "<matplotlib.figure.Figure at 0x1ca4d4512b0>"
      ]
     },
     "metadata": {},
     "output_type": "display_data"
    }
   ],
   "source": [
    "pd.value_counts(training_df['train_period_workstation_purchase_flag']).plot.bar()"
   ]
  },
  {
   "cell_type": "markdown",
   "metadata": {},
   "source": [
    "#### Specify X and Y variables"
   ]
  },
  {
   "cell_type": "code",
   "execution_count": 285,
   "metadata": {},
   "outputs": [],
   "source": [
    "# X = training_df.loc[:, training_df.columns != 'train_period_workstation_purchase_flag']\n",
    "X = training_df[gbm_list]\n",
    "y =training_df.loc[:,'train_period_workstation_purchase_flag']"
   ]
  },
  {
   "cell_type": "code",
   "execution_count": 10,
   "metadata": {},
   "outputs": [],
   "source": [
    "feature_list = training_df.columns.tolist()"
   ]
  },
  {
   "cell_type": "code",
   "execution_count": 11,
   "metadata": {},
   "outputs": [],
   "source": [
    "feature_list.remove('train_period_workstation_purchase_flag')\n",
    "# feature_list.append('test_period_workstation_purchase_flag')"
   ]
  },
  {
   "cell_type": "code",
   "execution_count": 12,
   "metadata": {},
   "outputs": [
    {
     "data": {
      "text/plain": [
       "(99999, 383)"
      ]
     },
     "execution_count": 12,
     "metadata": {},
     "output_type": "execute_result"
    }
   ],
   "source": [
    "training_df.shape"
   ]
  },
  {
   "cell_type": "markdown",
   "metadata": {},
   "source": [
    "### Load validation dataset"
   ]
  },
  {
   "cell_type": "code",
   "execution_count": 13,
   "metadata": {},
   "outputs": [
    {
     "name": "stderr",
     "output_type": "stream",
     "text": [
      "c:\\users\\harish\\anaconda3\\lib\\site-packages\\IPython\\core\\interactiveshell.py:2728: DtypeWarning: Columns (444,445,446,447,450,451,452,453,455,456,458,461,463,464,465,468,470,474,475,476,477,480,481,482,483,485,486,488,491,493,494,495,498,500,768) have mixed types. Specify dtype option on import or set low_memory=False.\n",
      "  interactivity=interactivity, compiler=compiler, result=result)\n"
     ]
    }
   ],
   "source": [
    "valid_df =pd.read_csv('IMB 621 VMW SERVER CASE VALIDATION DATA 28 MAY 2017.csv')"
   ]
  },
  {
   "cell_type": "code",
   "execution_count": 14,
   "metadata": {},
   "outputs": [],
   "source": [
    "validation_df = valid_df[feature_list]"
   ]
  },
  {
   "cell_type": "code",
   "execution_count": 15,
   "metadata": {},
   "outputs": [
    {
     "data": {
      "text/plain": [
       "(49999, 382)"
      ]
     },
     "execution_count": 15,
     "metadata": {},
     "output_type": "execute_result"
    }
   ],
   "source": [
    "validation_df.shape"
   ]
  },
  {
   "cell_type": "code",
   "execution_count": 16,
   "metadata": {},
   "outputs": [
    {
     "name": "stderr",
     "output_type": "stream",
     "text": [
      "c:\\users\\harish\\anaconda3\\lib\\site-packages\\ipykernel_launcher.py:1: SettingWithCopyWarning: \n",
      "A value is trying to be set on a copy of a slice from a DataFrame.\n",
      "Try using .loc[row_indexer,col_indexer] = value instead\n",
      "\n",
      "See the caveats in the documentation: http://pandas.pydata.org/pandas-docs/stable/indexing.html#indexing-view-versus-copy\n",
      "  \"\"\"Entry point for launching an IPython kernel.\n"
     ]
    }
   ],
   "source": [
    "validation_df['channel_direct_total_pct'] = validation_df['channel_direct_total_pct'].apply(pd.to_numeric, errors='coerce')"
   ]
  },
  {
   "cell_type": "markdown",
   "metadata": {},
   "source": [
    "#### Validation data preprocessing"
   ]
  },
  {
   "cell_type": "code",
   "execution_count": 83,
   "metadata": {},
   "outputs": [
    {
     "data": {
      "text/plain": [
       "[]"
      ]
     },
     "execution_count": 83,
     "metadata": {},
     "output_type": "execute_result"
    }
   ],
   "source": [
    "[key for key in dict(validation_df.dtypes) if dict(validation_df.dtypes)[key] in ['object']]"
   ]
  },
  {
   "cell_type": "code",
   "execution_count": 84,
   "metadata": {},
   "outputs": [],
   "source": [
    "for col in validation_df:\n",
    "    if sum(validation_df[col].isnull()) >=0:\n",
    "        validation_df[col].fillna(validation_df[col].median(), inplace=True)"
   ]
  },
  {
   "cell_type": "code",
   "execution_count": 85,
   "metadata": {},
   "outputs": [],
   "source": [
    "with pd.option_context('mode.use_inf_as_null', True):\n",
    "#     validation_df = validation_df.dropna(how='all')"
   ]
  },
  {
   "cell_type": "code",
   "execution_count": 89,
   "metadata": {},
   "outputs": [],
   "source": [
    "with pd.option_context('mode.use_inf_as_null', True):\n",
    "    validation_df = validation_df.dropna(subset=['channel_web_total_pct'], how='all')"
   ]
  },
  {
   "cell_type": "code",
   "execution_count": 554,
   "metadata": {},
   "outputs": [],
   "source": [
    "validation_df.to_csv('C:/Users/Harish/Desktop/BDA/Assignment_4/DATA SET/VMWareTrainingData_validation.csv',header='true',index='false')"
   ]
  },
  {
   "cell_type": "markdown",
   "metadata": {},
   "source": [
    "#### lease run Validation dataset from here"
   ]
  },
  {
   "cell_type": "code",
   "execution_count": 13,
   "metadata": {},
   "outputs": [],
   "source": [
    "validation_df = pd.read_csv('VMWareTrainingData_validation.csv')"
   ]
  },
  {
   "cell_type": "code",
   "execution_count": 14,
   "metadata": {},
   "outputs": [
    {
     "data": {
      "text/plain": [
       "(49998, 383)"
      ]
     },
     "execution_count": 14,
     "metadata": {},
     "output_type": "execute_result"
    }
   ],
   "source": [
    "validation_df.shape"
   ]
  },
  {
   "cell_type": "code",
   "execution_count": 286,
   "metadata": {},
   "outputs": [],
   "source": [
    "# X_val = validation_df.loc[:, validation_df.columns != 'test_period_workstation_purchase_flag']\n",
    "\n",
    "X_val = validation_df[gbm_list]\n",
    "\n",
    "y_val =validation_df.loc[:,'test_period_workstation_purchase_flag']"
   ]
  },
  {
   "cell_type": "markdown",
   "metadata": {},
   "source": [
    "### Split the training data in training and testing using cross validation techniques"
   ]
  },
  {
   "cell_type": "code",
   "execution_count": 287,
   "metadata": {},
   "outputs": [],
   "source": [
    "X_train, X_test, y_train, y_test = train_test_split(X, y,\n",
    "                                                     stratify=y, \n",
    "                                                     test_size=0.3)\n",
    "# X_mod= np.array(X)\n",
    "# y_mod=np.array(y)"
   ]
  },
  {
   "cell_type": "code",
   "execution_count": 288,
   "metadata": {},
   "outputs": [],
   "source": [
    "from sklearn import cross_validation\n",
    "skf = cross_validation.StratifiedKFold(y, n_folds=3,random_state=20)\n",
    "\n",
    "for train_index, test_index in skf:\n",
    "    print(\"TRAIN:\", train_index, \"TEST:\", test_index)\n",
    "    X_train, X_test = X_mod[train_index], X_mod[test_index]\n",
    "    y_train, y_test = y_mod[train_index], y_mod[test_index]"
   ]
  },
  {
   "cell_type": "markdown",
   "metadata": {},
   "source": [
    "### Normalizing the data"
   ]
  },
  {
   "cell_type": "markdown",
   "metadata": {},
   "source": [
    "#### Using MinMaxScaler"
   ]
  },
  {
   "cell_type": "code",
   "execution_count": 289,
   "metadata": {},
   "outputs": [],
   "source": [
    "#Normalise the data using sklearn library\n",
    "from sklearn import preprocessing\n",
    "from sklearn.preprocessing import MinMaxScaler\n",
    "# scaler = preprocessing.RobustScaler()\n",
    "scaler = preprocessing.MinMaxScaler()\n",
    "X_train = scaler.fit_transform( X_train )\n",
    "X_test= scaler.transform( X_test)\n",
    "X_val= scaler.transform( X_val)\n",
    "\n",
    "training_df[training_df.columns]  = scaler.fit_transform(training_df[training_df.columns])"
   ]
  },
  {
   "cell_type": "markdown",
   "metadata": {},
   "source": [
    "### Apply Resampling techniques"
   ]
  },
  {
   "cell_type": "markdown",
   "metadata": {},
   "source": [
    "### Ensemble Balanced cascade"
   ]
  },
  {
   "cell_type": "code",
   "execution_count": 291,
   "metadata": {},
   "outputs": [],
   "source": [
    "from imblearn.ensemble import BalancedBaggingClassifier \n",
    "from sklearn.metrics import confusion_matrix"
   ]
  },
  {
   "cell_type": "code",
   "execution_count": 300,
   "metadata": {},
   "outputs": [
    {
     "data": {
      "text/plain": [
       "BalancedBaggingClassifier(base_estimator=None, bootstrap=True,\n",
       "             bootstrap_features=True, max_features=1.0, max_samples=1.0,\n",
       "             n_estimators=50, n_jobs=1, oob_score=False, random_state=42,\n",
       "             ratio='auto', replacement=False, verbose=0, warm_start=False)"
      ]
     },
     "execution_count": 300,
     "metadata": {},
     "output_type": "execute_result"
    }
   ],
   "source": [
    "bbc = BalancedBaggingClassifier(n_estimators =50,bootstrap=True,bootstrap_features=True,random_state=42)\n",
    "bbc.fit(X_res, y_res) "
   ]
  },
  {
   "cell_type": "code",
   "execution_count": 301,
   "metadata": {},
   "outputs": [],
   "source": [
    "y_pred = bbc.predict(X_test)"
   ]
  },
  {
   "cell_type": "code",
   "execution_count": 302,
   "metadata": {},
   "outputs": [],
   "source": [
    "y_pred_val = bbc.predict(X_val)"
   ]
  },
  {
   "cell_type": "code",
   "execution_count": 303,
   "metadata": {},
   "outputs": [
    {
     "name": "stdout",
     "output_type": "stream",
     "text": [
      "[[22987  5963]\n",
      " [  138   912]]\n"
     ]
    }
   ],
   "source": [
    "print(confusion_matrix(y_test, y_pred))"
   ]
  },
  {
   "cell_type": "code",
   "execution_count": 304,
   "metadata": {},
   "outputs": [
    {
     "name": "stdout",
     "output_type": "stream",
     "text": [
      "             precision    recall  f1-score   support\n",
      "\n",
      "        0.0       0.99      0.79      0.88     28950\n",
      "        1.0       0.13      0.87      0.23      1050\n",
      "\n",
      "avg / total       0.96      0.80      0.86     30000\n",
      "\n"
     ]
    }
   ],
   "source": [
    "print(classification_report(y_test, y_pred))"
   ]
  },
  {
   "cell_type": "code",
   "execution_count": 305,
   "metadata": {},
   "outputs": [
    {
     "name": "stdout",
     "output_type": "stream",
     "text": [
      "             precision    recall  f1-score   support\n",
      "\n",
      "          0       0.96      0.06      0.11     48214\n",
      "          1       0.04      0.93      0.07      1784\n",
      "\n",
      "avg / total       0.92      0.09      0.11     49998\n",
      "\n"
     ]
    }
   ],
   "source": [
    "print(classification_report(y_val, y_pred_val))"
   ]
  },
  {
   "cell_type": "code",
   "execution_count": 306,
   "metadata": {},
   "outputs": [
    {
     "data": {
      "image/png": "[encoded data removed]",
      "text/plain": [
       "<matplotlib.figure.Figure at 0x1ca148e7470>"
      ]
     },
     "metadata": {},
     "output_type": "display_data"
    }
   ],
   "source": [
    "logit_roc_auc = roc_auc_score(y_test, bbc.predict(X_test))\n",
    "fpr, tpr, thresholds = roc_curve(y_test, bbc.predict_proba(X_test)[:,1])\n",
    "plt.figure()\n",
    "plt.plot(fpr, tpr, label='Ensemble balanced Regression (area = %0.2f)' % logit_roc_auc)\n",
    "plt.plot([0, 1], [0, 1],'r--')\n",
    "plt.xlim([0.0, 1.0])\n",
    "plt.ylim([0.0, 1.05])\n",
    "plt.xlabel('False Positive Rate')\n",
    "plt.ylabel('True Positive Rate')\n",
    "plt.title('Receiver operating characteristic')\n",
    "plt.legend(loc=\"lower right\")\n",
    "plt.savefig('Log_ROC')\n",
    "plt.show()"
   ]
  },
  {
   "cell_type": "markdown",
   "metadata": {},
   "source": [
    "### SMOTEEN Resampling"
   ]
  },
  {
   "cell_type": "code",
   "execution_count": 389,
   "metadata": {},
   "outputs": [],
   "source": [
    "from imblearn.combine import SMOTEENN\n",
    "smote_enn = SMOTEENN(random_state=0)\n",
    "X_train, y_train = smote_enn.fit_sample(X_train, y_train)\n",
    "print (y.value_counts(), np.bincount(y_resampled.astype(np.int)))"
   ]
  },
  {
   "cell_type": "markdown",
   "metadata": {},
   "source": [
    "#### Tried applying smoteen but it wasn't helpful in getting good accuracy"
   ]
  },
  {
   "cell_type": "markdown",
   "metadata": {},
   "source": [
    "### Undersampling"
   ]
  },
  {
   "cell_type": "code",
   "execution_count": 454,
   "metadata": {},
   "outputs": [],
   "source": [
    "from imblearn.under_sampling import RandomUnderSampler \n",
    "rus = RandomUnderSampler(random_state=42)\n",
    "X_res, y_res = rus.fit_sample(X_train, y_train)"
   ]
  },
  {
   "cell_type": "markdown",
   "metadata": {},
   "source": [
    "#### Undesampling the majority class"
   ]
  },
  {
   "cell_type": "markdown",
   "metadata": {},
   "source": [
    "### 1. SMOTE Oversampling"
   ]
  },
  {
   "cell_type": "code",
   "execution_count": 25,
   "metadata": {},
   "outputs": [],
   "source": [
    "sm = SMOTE(random_state=22,ratio='minority')"
   ]
  },
  {
   "cell_type": "code",
   "execution_count": 290,
   "metadata": {},
   "outputs": [],
   "source": [
    "X_res, y_res = sm.fit_sample(X_train, y_train)\n",
    "# print (y.value_counts(), np.bincount(y_res.astype(np.int)))"
   ]
  },
  {
   "cell_type": "markdown",
   "metadata": {},
   "source": [
    "### I did oversampling on training data and kept test data as it is"
   ]
  },
  {
   "cell_type": "markdown",
   "metadata": {},
   "source": [
    "### Feature selection technique"
   ]
  },
  {
   "cell_type": "markdown",
   "metadata": {},
   "source": [
    "#### Using false positive ratio"
   ]
  },
  {
   "cell_type": "code",
   "execution_count": 159,
   "metadata": {},
   "outputs": [],
   "source": [
    "from sklearn.feature_selection import SelectFpr\n",
    "from sklearn.feature_selection import chi2"
   ]
  },
  {
   "cell_type": "code",
   "execution_count": 160,
   "metadata": {},
   "outputs": [],
   "source": [
    "fpr= SelectFpr(chi2, alpha=0.001)"
   ]
  },
  {
   "cell_type": "code",
   "execution_count": 161,
   "metadata": {},
   "outputs": [],
   "source": [
    "fpr = fpr.fit(X_train,y_train)"
   ]
  },
  {
   "cell_type": "code",
   "execution_count": 162,
   "metadata": {},
   "outputs": [],
   "source": [
    "fpr_df=pd.DataFrame({'p_val':fpr.pvalues_,'features':feature_list})"
   ]
  },
  {
   "cell_type": "code",
   "execution_count": 163,
   "metadata": {
    "scrolled": true
   },
   "outputs": [
    {
     "data": {
      "text/html": [
       "<div>\n",
       "<style>\n",
       "    .dataframe thead tr:only-child th {\n",
       "        text-align: right;\n",
       "    }\n",
       "\n",
       "    .dataframe thead th {\n",
       "        text-align: left;\n",
       "    }\n",
       "\n",
       "    .dataframe tbody tr th {\n",
       "        vertical-align: top;\n",
       "    }\n",
       "</style>\n",
       "<table border=\"1\" class=\"dataframe\">\n",
       "  <thead>\n",
       "    <tr style=\"text-align: right;\">\n",
       "      <th></th>\n",
       "      <th>features</th>\n",
       "      <th>p_val</th>\n",
       "    </tr>\n",
       "  </thead>\n",
       "  <tbody>\n",
       "    <tr>\n",
       "      <th>104</th>\n",
       "      <td>flag_prodF_customer</td>\n",
       "      <td>6.300443e-114</td>\n",
       "    </tr>\n",
       "    <tr>\n",
       "      <th>308</th>\n",
       "      <td>ftr_dummy_idc_verticalsOther</td>\n",
       "      <td>5.786081e-35</td>\n",
       "    </tr>\n",
       "    <tr>\n",
       "      <th>335</th>\n",
       "      <td>ftr_dummy_record_typePERSON</td>\n",
       "      <td>9.142658e-32</td>\n",
       "    </tr>\n",
       "    <tr>\n",
       "      <th>241</th>\n",
       "      <td>prodG_booking_pct</td>\n",
       "      <td>6.477821e-29</td>\n",
       "    </tr>\n",
       "    <tr>\n",
       "      <th>336</th>\n",
       "      <td>ftr_dummy_record_typeUnknown</td>\n",
       "      <td>5.405617e-26</td>\n",
       "    </tr>\n",
       "    <tr>\n",
       "      <th>333</th>\n",
       "      <td>ftr_dummy_geo_dunssiteUnknown</td>\n",
       "      <td>1.087076e-23</td>\n",
       "    </tr>\n",
       "    <tr>\n",
       "      <th>312</th>\n",
       "      <td>ftr_dummy_idc_verticalsUnknown</td>\n",
       "      <td>2.152215e-23</td>\n",
       "    </tr>\n",
       "    <tr>\n",
       "      <th>332</th>\n",
       "      <td>ftr_dummy_geo_dunssiteEMEA</td>\n",
       "      <td>3.864617e-23</td>\n",
       "    </tr>\n",
       "    <tr>\n",
       "      <th>256</th>\n",
       "      <td>ftr_dummy_gu_emp_segment_descVery_Small_SMB</td>\n",
       "      <td>9.313107e-23</td>\n",
       "    </tr>\n",
       "    <tr>\n",
       "      <th>255</th>\n",
       "      <td>ftr_dummy_gu_emp_segment_descUnknown</td>\n",
       "      <td>8.143681e-22</td>\n",
       "    </tr>\n",
       "    <tr>\n",
       "      <th>276</th>\n",
       "      <td>ftr_dummy_db_industryManufacturing</td>\n",
       "      <td>4.248863e-21</td>\n",
       "    </tr>\n",
       "    <tr>\n",
       "      <th>329</th>\n",
       "      <td>ftr_dummy_geo_dunssiteAMER</td>\n",
       "      <td>1.013065e-18</td>\n",
       "    </tr>\n",
       "    <tr>\n",
       "      <th>317</th>\n",
       "      <td>ftr_dummy_citdb_ent_it_budgetlt50</td>\n",
       "      <td>1.009019e-15</td>\n",
       "    </tr>\n",
       "    <tr>\n",
       "      <th>325</th>\n",
       "      <td>ftr_dummy_citdb_ent_server5</td>\n",
       "      <td>1.009019e-15</td>\n",
       "    </tr>\n",
       "    <tr>\n",
       "      <th>254</th>\n",
       "      <td>ftr_dummy_gu_emp_segment_descSmall_SMB</td>\n",
       "      <td>1.956938e-14</td>\n",
       "    </tr>\n",
       "    <tr>\n",
       "      <th>219</th>\n",
       "      <td>days_since_first_prodG_purchase_date</td>\n",
       "      <td>8.818244e-14</td>\n",
       "    </tr>\n",
       "    <tr>\n",
       "      <th>94</th>\n",
       "      <td>dw_mkt_duns_num_key</td>\n",
       "      <td>3.115166e-13</td>\n",
       "    </tr>\n",
       "    <tr>\n",
       "      <th>307</th>\n",
       "      <td>ftr_dummy_idc_verticalsManufacturing</td>\n",
       "      <td>4.001347e-11</td>\n",
       "    </tr>\n",
       "    <tr>\n",
       "      <th>148</th>\n",
       "      <td>total_prodG_booking_amount</td>\n",
       "      <td>7.763245e-11</td>\n",
       "    </tr>\n",
       "    <tr>\n",
       "      <th>284</th>\n",
       "      <td>ftr_dummy_db_industrySoftware__Technology</td>\n",
       "      <td>5.409924e-10</td>\n",
       "    </tr>\n",
       "    <tr>\n",
       "      <th>239</th>\n",
       "      <td>prodV_booking_pct</td>\n",
       "      <td>1.753204e-09</td>\n",
       "    </tr>\n",
       "    <tr>\n",
       "      <th>376</th>\n",
       "      <td>ftr_growth_prodA_ent_13_14</td>\n",
       "      <td>3.314134e-09</td>\n",
       "    </tr>\n",
       "    <tr>\n",
       "      <th>196</th>\n",
       "      <td>prodA_ent_2014_bookings_amount</td>\n",
       "      <td>3.314134e-09</td>\n",
       "    </tr>\n",
       "    <tr>\n",
       "      <th>334</th>\n",
       "      <td>ftr_dummy_record_typeORGANIZATION</td>\n",
       "      <td>4.759111e-09</td>\n",
       "    </tr>\n",
       "    <tr>\n",
       "      <th>206</th>\n",
       "      <td>flag_duns_vertical_retail</td>\n",
       "      <td>7.584217e-09</td>\n",
       "    </tr>\n",
       "    <tr>\n",
       "      <th>211</th>\n",
       "      <td>flag_idc_vertical_retail</td>\n",
       "      <td>7.584217e-09</td>\n",
       "    </tr>\n",
       "    <tr>\n",
       "      <th>91</th>\n",
       "      <td>days_bw_prodG_launch_and_purch</td>\n",
       "      <td>6.279284e-08</td>\n",
       "    </tr>\n",
       "    <tr>\n",
       "      <th>289</th>\n",
       "      <td>ftr_dummy_db_industryUnknown</td>\n",
       "      <td>8.187034e-08</td>\n",
       "    </tr>\n",
       "    <tr>\n",
       "      <th>169</th>\n",
       "      <td>num_prodN_orders</td>\n",
       "      <td>1.514307e-07</td>\n",
       "    </tr>\n",
       "    <tr>\n",
       "      <th>175</th>\n",
       "      <td>prodL_2015_bookings_amount</td>\n",
       "      <td>1.514307e-07</td>\n",
       "    </tr>\n",
       "    <tr>\n",
       "      <th>...</th>\n",
       "      <td>...</td>\n",
       "      <td>...</td>\n",
       "    </tr>\n",
       "    <tr>\n",
       "      <th>224</th>\n",
       "      <td>channel_direct_total_pct</td>\n",
       "      <td>9.880323e-01</td>\n",
       "    </tr>\n",
       "    <tr>\n",
       "      <th>168</th>\n",
       "      <td>num_prodK_orders</td>\n",
       "      <td>9.882858e-01</td>\n",
       "    </tr>\n",
       "    <tr>\n",
       "      <th>177</th>\n",
       "      <td>prodM_2012_bookings_amount</td>\n",
       "      <td>9.887572e-01</td>\n",
       "    </tr>\n",
       "    <tr>\n",
       "      <th>123</th>\n",
       "      <td>prodA_2013_bookings_amount</td>\n",
       "      <td>9.891155e-01</td>\n",
       "    </tr>\n",
       "    <tr>\n",
       "      <th>176</th>\n",
       "      <td>total_prodM_booking_amount</td>\n",
       "      <td>9.892010e-01</td>\n",
       "    </tr>\n",
       "    <tr>\n",
       "      <th>337</th>\n",
       "      <td>ftr_growth_prodA_12_13</td>\n",
       "      <td>9.896763e-01</td>\n",
       "    </tr>\n",
       "    <tr>\n",
       "      <th>225</th>\n",
       "      <td>channel_partner_total_pct</td>\n",
       "      <td>9.913563e-01</td>\n",
       "    </tr>\n",
       "    <tr>\n",
       "      <th>240</th>\n",
       "      <td>prodE_booking_pct</td>\n",
       "      <td>9.936087e-01</td>\n",
       "    </tr>\n",
       "    <tr>\n",
       "      <th>250</th>\n",
       "      <td>total_prodL_booking_pct</td>\n",
       "      <td>9.938856e-01</td>\n",
       "    </tr>\n",
       "    <tr>\n",
       "      <th>188</th>\n",
       "      <td>total_prodA_std_booking_amount</td>\n",
       "      <td>9.940863e-01</td>\n",
       "    </tr>\n",
       "    <tr>\n",
       "      <th>222</th>\n",
       "      <td>channel_web_total_pct</td>\n",
       "      <td>9.943079e-01</td>\n",
       "    </tr>\n",
       "    <tr>\n",
       "      <th>213</th>\n",
       "      <td>channel_oem_total</td>\n",
       "      <td>9.987399e-01</td>\n",
       "    </tr>\n",
       "    <tr>\n",
       "      <th>172</th>\n",
       "      <td>prodL_2012_bookings_amount</td>\n",
       "      <td>9.988353e-01</td>\n",
       "    </tr>\n",
       "    <tr>\n",
       "      <th>234</th>\n",
       "      <td>prodF_booking_pct</td>\n",
       "      <td>9.988645e-01</td>\n",
       "    </tr>\n",
       "    <tr>\n",
       "      <th>237</th>\n",
       "      <td>prodM_booking_pct</td>\n",
       "      <td>9.990360e-01</td>\n",
       "    </tr>\n",
       "    <tr>\n",
       "      <th>195</th>\n",
       "      <td>prodA_ent_2013_bookings_amount</td>\n",
       "      <td>9.992186e-01</td>\n",
       "    </tr>\n",
       "    <tr>\n",
       "      <th>372</th>\n",
       "      <td>ftr_growth_prodA_ent_12_13</td>\n",
       "      <td>9.992186e-01</td>\n",
       "    </tr>\n",
       "    <tr>\n",
       "      <th>130</th>\n",
       "      <td>prodA_5_x_2015_bookings_amount</td>\n",
       "      <td>9.992647e-01</td>\n",
       "    </tr>\n",
       "    <tr>\n",
       "      <th>173</th>\n",
       "      <td>prodL_2013_bookings_amount</td>\n",
       "      <td>9.993499e-01</td>\n",
       "    </tr>\n",
       "    <tr>\n",
       "      <th>344</th>\n",
       "      <td>ftr_growth_prodL_12_13</td>\n",
       "      <td>9.993499e-01</td>\n",
       "    </tr>\n",
       "    <tr>\n",
       "      <th>40</th>\n",
       "      <td>tot_msn_se_visits</td>\n",
       "      <td>NaN</td>\n",
       "    </tr>\n",
       "    <tr>\n",
       "      <th>132</th>\n",
       "      <td>prodB_2012_bookings_amount</td>\n",
       "      <td>NaN</td>\n",
       "    </tr>\n",
       "    <tr>\n",
       "      <th>133</th>\n",
       "      <td>prodB_2013_bookings_amount</td>\n",
       "      <td>NaN</td>\n",
       "    </tr>\n",
       "    <tr>\n",
       "      <th>154</th>\n",
       "      <td>prodH_2012_bookings_amount</td>\n",
       "      <td>NaN</td>\n",
       "    </tr>\n",
       "    <tr>\n",
       "      <th>157</th>\n",
       "      <td>prodH_2015_bookings_amount</td>\n",
       "      <td>NaN</td>\n",
       "    </tr>\n",
       "    <tr>\n",
       "      <th>159</th>\n",
       "      <td>prodJ_2012_bookings_amount</td>\n",
       "      <td>NaN</td>\n",
       "    </tr>\n",
       "    <tr>\n",
       "      <th>194</th>\n",
       "      <td>prodA_ent_2012_bookings_amount</td>\n",
       "      <td>NaN</td>\n",
       "    </tr>\n",
       "    <tr>\n",
       "      <th>199</th>\n",
       "      <td>prodA_ent_plus_2012_bookings_amount</td>\n",
       "      <td>NaN</td>\n",
       "    </tr>\n",
       "    <tr>\n",
       "      <th>338</th>\n",
       "      <td>ftr_growth_prodB_12_13</td>\n",
       "      <td>NaN</td>\n",
       "    </tr>\n",
       "    <tr>\n",
       "      <th>363</th>\n",
       "      <td>ftr_growth_prodH_14_15</td>\n",
       "      <td>NaN</td>\n",
       "    </tr>\n",
       "  </tbody>\n",
       "</table>\n",
       "<p>382 rows × 2 columns</p>\n",
       "</div>"
      ],
      "text/plain": [
       "                                        features          p_val\n",
       "104                          flag_prodF_customer  6.300443e-114\n",
       "308                 ftr_dummy_idc_verticalsOther   5.786081e-35\n",
       "335                  ftr_dummy_record_typePERSON   9.142658e-32\n",
       "241                            prodG_booking_pct   6.477821e-29\n",
       "336                 ftr_dummy_record_typeUnknown   5.405617e-26\n",
       "333                ftr_dummy_geo_dunssiteUnknown   1.087076e-23\n",
       "312               ftr_dummy_idc_verticalsUnknown   2.152215e-23\n",
       "332                   ftr_dummy_geo_dunssiteEMEA   3.864617e-23\n",
       "256  ftr_dummy_gu_emp_segment_descVery_Small_SMB   9.313107e-23\n",
       "255         ftr_dummy_gu_emp_segment_descUnknown   8.143681e-22\n",
       "276           ftr_dummy_db_industryManufacturing   4.248863e-21\n",
       "329                   ftr_dummy_geo_dunssiteAMER   1.013065e-18\n",
       "317            ftr_dummy_citdb_ent_it_budgetlt50   1.009019e-15\n",
       "325                  ftr_dummy_citdb_ent_server5   1.009019e-15\n",
       "254       ftr_dummy_gu_emp_segment_descSmall_SMB   1.956938e-14\n",
       "219         days_since_first_prodG_purchase_date   8.818244e-14\n",
       "94                           dw_mkt_duns_num_key   3.115166e-13\n",
       "307         ftr_dummy_idc_verticalsManufacturing   4.001347e-11\n",
       "148                   total_prodG_booking_amount   7.763245e-11\n",
       "284    ftr_dummy_db_industrySoftware__Technology   5.409924e-10\n",
       "239                            prodV_booking_pct   1.753204e-09\n",
       "376                   ftr_growth_prodA_ent_13_14   3.314134e-09\n",
       "196               prodA_ent_2014_bookings_amount   3.314134e-09\n",
       "334            ftr_dummy_record_typeORGANIZATION   4.759111e-09\n",
       "206                    flag_duns_vertical_retail   7.584217e-09\n",
       "211                     flag_idc_vertical_retail   7.584217e-09\n",
       "91                days_bw_prodG_launch_and_purch   6.279284e-08\n",
       "289                 ftr_dummy_db_industryUnknown   8.187034e-08\n",
       "169                             num_prodN_orders   1.514307e-07\n",
       "175                   prodL_2015_bookings_amount   1.514307e-07\n",
       "..                                           ...            ...\n",
       "224                     channel_direct_total_pct   9.880323e-01\n",
       "168                             num_prodK_orders   9.882858e-01\n",
       "177                   prodM_2012_bookings_amount   9.887572e-01\n",
       "123                   prodA_2013_bookings_amount   9.891155e-01\n",
       "176                   total_prodM_booking_amount   9.892010e-01\n",
       "337                       ftr_growth_prodA_12_13   9.896763e-01\n",
       "225                    channel_partner_total_pct   9.913563e-01\n",
       "240                            prodE_booking_pct   9.936087e-01\n",
       "250                      total_prodL_booking_pct   9.938856e-01\n",
       "188               total_prodA_std_booking_amount   9.940863e-01\n",
       "222                        channel_web_total_pct   9.943079e-01\n",
       "213                            channel_oem_total   9.987399e-01\n",
       "172                   prodL_2012_bookings_amount   9.988353e-01\n",
       "234                            prodF_booking_pct   9.988645e-01\n",
       "237                            prodM_booking_pct   9.990360e-01\n",
       "195               prodA_ent_2013_bookings_amount   9.992186e-01\n",
       "372                   ftr_growth_prodA_ent_12_13   9.992186e-01\n",
       "130               prodA_5_x_2015_bookings_amount   9.992647e-01\n",
       "173                   prodL_2013_bookings_amount   9.993499e-01\n",
       "344                       ftr_growth_prodL_12_13   9.993499e-01\n",
       "40                             tot_msn_se_visits            NaN\n",
       "132                   prodB_2012_bookings_amount            NaN\n",
       "133                   prodB_2013_bookings_amount            NaN\n",
       "154                   prodH_2012_bookings_amount            NaN\n",
       "157                   prodH_2015_bookings_amount            NaN\n",
       "159                   prodJ_2012_bookings_amount            NaN\n",
       "194               prodA_ent_2012_bookings_amount            NaN\n",
       "199          prodA_ent_plus_2012_bookings_amount            NaN\n",
       "338                       ftr_growth_prodB_12_13            NaN\n",
       "363                       ftr_growth_prodH_14_15            NaN\n",
       "\n",
       "[382 rows x 2 columns]"
      ]
     },
     "execution_count": 163,
     "metadata": {},
     "output_type": "execute_result"
    }
   ],
   "source": [
    "fpr_df.sort_values('p_val',ascending=True)"
   ]
  },
  {
   "cell_type": "code",
   "execution_count": 164,
   "metadata": {},
   "outputs": [],
   "source": [
    "fpr_df= fpr_df[fpr_df['p_val']<=0.05]"
   ]
  },
  {
   "cell_type": "code",
   "execution_count": 165,
   "metadata": {},
   "outputs": [],
   "source": [
    "fpr_list=fpr_df['features']"
   ]
  },
  {
   "cell_type": "code",
   "execution_count": 167,
   "metadata": {},
   "outputs": [],
   "source": [
    "# fpr_list"
   ]
  },
  {
   "cell_type": "markdown",
   "metadata": {},
   "source": [
    "### Feature selection using Tree classifier"
   ]
  },
  {
   "cell_type": "code",
   "execution_count": 113,
   "metadata": {},
   "outputs": [],
   "source": [
    " from sklearn.ensemble import ExtraTreesClassifier"
   ]
  },
  {
   "cell_type": "code",
   "execution_count": 114,
   "metadata": {},
   "outputs": [],
   "source": [
    "clf_tree = ExtraTreesClassifier()\n",
    "clf_tree = clf_tree.fit(X_train, y_train)"
   ]
  },
  {
   "cell_type": "code",
   "execution_count": 115,
   "metadata": {},
   "outputs": [],
   "source": [
    "tree_features = pd.DataFrame({'features':feature_list,'importance':clf_tree.feature_importances_})"
   ]
  },
  {
   "cell_type": "code",
   "execution_count": 116,
   "metadata": {},
   "outputs": [],
   "source": [
    "tree_features.sort_values('importance',ascending=False)\n",
    "# # tree_features.sort_values(['importance'], ascending=False)\n",
    "feature_sel = tree_features[tree_features['importance']>=0.01]\n",
    "tree_features=feature_sel['features']"
   ]
  },
  {
   "cell_type": "code",
   "execution_count": 117,
   "metadata": {},
   "outputs": [
    {
     "data": {
      "text/plain": [
       "0                             tot_page_views\n",
       "3                                 tot_visits\n",
       "13                           purchase_events\n",
       "18                 tot_google_browser_visits\n",
       "19                tot_mozilla_browser_visits\n",
       "20              tot_microsoft_browser_visits\n",
       "24                   tot_internal_ref_visits\n",
       "28                      tot_other_ref_visits\n",
       "34                        tot_windows_visits\n",
       "42      tot_first_touch_natural_search_views\n",
       "44           tot_first_touch_src_codes_views\n",
       "45              tot_first_touch_direct_views\n",
       "46            tot_first_touch_internal_views\n",
       "50       tot_last_touch_natural_search_views\n",
       "52            tot_last_touch_src_codes_views\n",
       "53               tot_last_touch_direct_views\n",
       "56     tot_last_touch_referring_domain_views\n",
       "57                      tot_store_page_views\n",
       "91            days_bw_prodG_launch_and_purch\n",
       "92               total_prodV_bookings_amount\n",
       "94                       dw_mkt_duns_num_key\n",
       "95                           num_order_lines\n",
       "96                                num_orders\n",
       "97                     total_bookings_amount\n",
       "148               total_prodG_booking_amount\n",
       "149               prodG_2012_bookings_amount\n",
       "150               prodG_2013_bookings_amount\n",
       "151               prodG_2014_bookings_amount\n",
       "152               prodG_2015_bookings_amount\n",
       "214                        channel_web_total\n",
       "219     days_since_first_prodG_purchase_date\n",
       "220      days_since_last_prodG_purchase_date\n",
       "221                            channel_total\n",
       "229                             total_amount\n",
       "239                        prodV_booking_pct\n",
       "241                        prodG_booking_pct\n",
       "341                   ftr_growth_prodG_12_13\n",
       "350                   ftr_growth_prodG_13_14\n",
       "362                   ftr_growth_prodG_14_15\n",
       "Name: features, dtype: object"
      ]
     },
     "execution_count": 117,
     "metadata": {},
     "output_type": "execute_result"
    }
   ],
   "source": [
    "tree_features"
   ]
  },
  {
   "cell_type": "markdown",
   "metadata": {},
   "source": [
    "#### Features selected from ExtraTreesClassifier Technique"
   ]
  },
  {
   "cell_type": "code",
   "execution_count": 34,
   "metadata": {},
   "outputs": [],
   "source": [
    "tree_features= [ 'prodG_booking_pct',  'prodV_booking_pct',  'total_amount',  'total_prodG_booking_amount',  'total_prodV_bookings_amount',  'prodG_2015_bookings_amount',  'tot_microsoft_browser_visits',  'ftr_dummy_db_industryUnknown',  'days_since_last_prodG_purchase_date',  'days_bw_prodG_launch_and_purch',  'days_since_first_prodG_purchase_date',  'channel_web_total',  'ftr_growth_prodG_13_14',  'channel_total',  'tot_apple_browser_visits',  'total_bookings_amount',  'prodG_2014_bookings_amount',  'flag_prodG_customer',  'ftr_dummy_record_typePERSON',  'ftr_growth_prodG_14_15',  'ftr_dummy_idc_verticalsOther',  'purchase_events',  'tot_windows_visits',  'flag_prodF_customer',  'ftr_dummy_db_industrySoftware__Technology',  'prodG_2013_bookings_amount',  'num_order_lines',  'num_orders',  'tot_store_page_views',  'tot_google_browser_visits',  'ftr_dummy_gu_emp_segment_descVery_Small_SMB',  'tot_last_touch_src_codes_views',  'ftr_dummy_idc_verticalsServices',  'ftr_growth_prodG_12_13',  'tot_mozilla_browser_visits',  'ftr_dummy_highest_prodA_editionto1',  'tot_first_touch_natural_search_views',  'tot_internal_ref_visits',  'tot_osx_visits',  'tot_first_touch_direct_views',  'tot_other_ref_visits',  'prodG_2012_bookings_amount',  'tot_last_touch_referring_domain_views', 'tot_page_views',  'ftr_dummy_record_typeORGANIZATION',  'flag_idc_vertical_retail',  'tot_first_touch_src_codes_views',  'tot_visits',  'tot_last_touch_direct_views',  'tot_first_touch_internal_views',  'flag_duns_vertical_retail',]"
   ]
  },
  {
   "cell_type": "markdown",
   "metadata": {},
   "source": [
    "#### RFE Feature selection:"
   ]
  },
  {
   "cell_type": "code",
   "execution_count": 246,
   "metadata": {},
   "outputs": [
    {
     "name": "stdout",
     "output_type": "stream",
     "text": [
      "[False False False False False False False False False False False False\n",
      " False False False False False False False False  True False False False\n",
      " False False False False False False False False False  True False False\n",
      "  True False False False  True False False  True False False False False\n",
      "  True False  True False  True False False  True False  True False False\n",
      " False False False False False False False False False False False False\n",
      " False False False False False False False False False False False False\n",
      " False False False False  True False False False  True  True False False\n",
      " False False False False False False False False False False False False\n",
      " False False False False False False False False False  True False  True\n",
      " False False False False  True  True False False False False  True False\n",
      " False False False  True False  True False False  True  True  True  True\n",
      "  True  True False  True False False  True False False  True False False\n",
      " False False False False False False False False  True False False False\n",
      "  True False False False  True False False False False False False False\n",
      " False False False False False False  True  True False False False  True\n",
      "  True False False False False False False False False False False False\n",
      " False False False False False False  True False  True False False False\n",
      " False False False False False False False False False False False False\n",
      " False False False False False False False False False False False False\n",
      " False False False False False False False False False False False False\n",
      " False False False False False False False False False False False False\n",
      " False False False False False False False False False False False False\n",
      " False False False False False False False False False False False False\n",
      " False False False False False False False False False False False False\n",
      " False False False False  True False  True False  True False False False\n",
      " False False False False False  True False  True  True  True False  True\n",
      "  True False  True False False False False False  True False False False\n",
      " False  True]\n",
      "[100  79  76  75  74  71  70  69  68  67  66  65  64  63  62  61  60  46\n",
      "  26  31   1  24  23  21  14  23  22  21  22  20  28  19  25   1  42  28\n",
      "   1  31  47  32   1  33  36   1  25  40  51  55   1  15   1  30   1  45\n",
      "  27   1  39   1  50  52  42  77  33  41  67  44  55  81  90  56  78  68\n",
      "  84  41  35  89  64  69  73  83  88  59  38  91  83  79  90  85   1   8\n",
      " 108  17   1   1  14  85 114  72 109 117 106  92  36 108 115 109 103 111\n",
      " 124 110 110 121 122 126 112  10   4   1  11   1 116   9   2  11   1   1\n",
      " 127 107  45   6   1  43  12 122  17   1  99   1  95  86   1   1   1   1\n",
      "   1   1 117   1  12 140   1 143  13   1 129   2 131 132  40   7  30  26\n",
      "   6  61   1  15  18   9   1  66  18 131   1 127  34  29  35 137 136  92\n",
      " 100 107  43  37 142  56   1   1   5   5   8   1   1  13  37  44  53  54\n",
      "  57  50  49  16  53  46  59  78  58  38  52  47   1  82   1  49  97 104\n",
      "  54  34  76  96  73  86  98  75 102  89  88  65  57  77  93 105  51 135\n",
      " 125 105 134 118  74  71  80  62  80 104 145  72  98  99  95 130 138 106\n",
      " 118 120 144 134  94  94 135 103 139  87 119 124 119 123 125 123 132 129\n",
      " 145  93 133 121 101  58 114 112 101 138 143 141  81  97 115 102 136 130\n",
      "  70 140 133 128 141 128  84 113  60  96 142 144 137 126  91  48   1 120\n",
      "   1  24   1 111 113  82 139   7  19  16  20   1  29   1   1   1  63   1\n",
      "   1  32   1  48  27  39   4  10   1   3   3  87 116   1]\n"
     ]
    }
   ],
   "source": [
    "rfe_reg = RFE(logreg,50, step=2, verbose=0)\n",
    "rfe_reg = rfe_reg.fit(X_res, y_res)\n",
    "print(rfe_reg.support_)\n",
    "print(rfe_reg.ranking_)"
   ]
  },
  {
   "cell_type": "markdown",
   "metadata": {},
   "source": [
    "#### Features selected from RFE selection"
   ]
  },
  {
   "cell_type": "code",
   "execution_count": 557,
   "metadata": {},
   "outputs": [],
   "source": [
    "RFE_features=[ 'tot_apple_browser_visits',  'tot_windows_visits',  'tot_google_se_visits',  'tot_first_touch_natural_search_views',  'tot_first_touch_direct_views',  'tot_last_touch_natural_search_views',  'tot_last_touch_src_codes_views',  'tot_last_touch_internal_views',  'tot_store_page_views',  'tot_store_vmw_my_group_page_views',  'days_bw_prodG_launch_and_purch',  'num_order_lines',  'num_orders',  'prodA_2013_bookings_amount',  'prodA_2015_bookings_amount',  'prodA_5_x_2015_bookings_amount',  'total_prodB_booking_amount',  'total_prodD_booking_amount',  'total_prodF_booking_amount',  'prodF_2013_bookings_amount',  'total_prodG_booking_amount',  'prodG_2012_bookings_amount',  'prodG_2013_bookings_amount',  'prodG_2014_bookings_amount',  'prodG_2015_bookings_amount',  'total_prodH_booking_amount',  'prodH_2014_bookings_amount',  'prodJ_2014_bookings_amount',  'prodK_booking_amount',  'prodA_std_2013_bookings_amount',  'prodA_ent_2012_bookings_amount',  'total_prodA_ent_plus_booking_amount',  'channel_oem_total',  'channel_web_total',  'days_since_first_prodG_purchase_date',  'days_since_last_prodG_purchase_date',  'prodV_booking_pct',  'prodG_booking_pct',  'ftr_growth_prodA_12_13',  'ftr_growth_prodD_12_13',  'ftr_growth_prodG_12_13',  'ftr_growth_prodG_13_14',  'ftr_growth_prodJ_13_14',  'ftr_growth_prodL_13_14',  'ftr_growth_prodA_14_15',  'ftr_growth_prodF_14_15',  'ftr_growth_prodG_14_15',  'ftr_growth_prodA_5_x_12_13',  'ftr_growth_prodA_ent_13_14',  'ftr_growth_prodA_ent_plus_14_15']"
   ]
  },
  {
   "cell_type": "markdown",
   "metadata": {},
   "source": [
    "##### Try VIF factore to identify multicollinearity"
   ]
  },
  {
   "cell_type": "code",
   "execution_count": null,
   "metadata": {},
   "outputs": [],
   "source": [
    "from patsy import dmatrices\n",
    "import statsmodels.api as sm\n",
    "from statsmodels.stats.outliers_influence import variance_inflation_factor"
   ]
  },
  {
   "cell_type": "code",
   "execution_count": null,
   "metadata": {},
   "outputs": [],
   "source": [
    "features = training_df.columns - ['train_period_workstation_purchase_flag']\n",
    "training_df.reset_index(drop = True, inplace = True)\n",
    "train_stats = training_df.copy()\n",
    "train_stats = train_stats.rename(columns={'ftr_dummy_citdb_ent_it_budget2500_.': 'ftr_dummy_citdb_ent_it_budget2500'})\n",
    "features = train_stats.columns.tolist()"
   ]
  },
  {
   "cell_type": "code",
   "execution_count": null,
   "metadata": {},
   "outputs": [],
   "source": [
    "# features.remove('train_period_workstation_purchase_flag')\n",
    "str1 = '+'.join(features)"
   ]
  },
  {
   "cell_type": "code",
   "execution_count": null,
   "metadata": {},
   "outputs": [],
   "source": [
    "y, X = dmatrices('train_period_workstation_purchase_flag ~'+ str1, train_stats , return_type = 'dataframe')"
   ]
  },
  {
   "cell_type": "code",
   "execution_count": null,
   "metadata": {},
   "outputs": [],
   "source": [
    "#####Calculate VIF Factors\n",
    "\n",
    "vif = pd.DataFrame()\n",
    "vif[\"VIF Factor\"] = [variance_inflation_factor(X.values, i) for i in range(X.shape[1])]\n",
    "vif[\"features\"] = X.columns"
   ]
  },
  {
   "cell_type": "code",
   "execution_count": 558,
   "metadata": {},
   "outputs": [],
   "source": [
    "features_VIF=['tot_page_views_l30d',  'tot_page_views_l90d',  'tot_visits_l30d',  'tot_visits_l90d',  'internal_search_events',  'buy_now_events',  'download_trial_events',  'support_search_events',  'get_pricing_events',  'product_view_events',  'campaign_view_events',  'purchase_events',  'paid_search_events',  'natural_search_events',  'tot_campaign_visits',  'tot_paid_search_visits',  'tot_apple_browser_visits',  'tot_opera_browser_visits',  'tot_other_browser_visits',  'tot_internal_ref_visits',  'tot_search_engine_ref_visits',  'tot_email_ref_visits',  'tot_social_media_ref_visits',  'tot_other_ref_visits',  'tot_prodQ_os_visits',  'tot_android_visits',  'tot_ios_visits',  'tot_winphone_visits',  'tot_blackberry_visits',  'tot_windows_visits',  'tot_linux_visits',  'tot_osx_visits',  'tot_google_se_visits',  'tot_yahoo_se_visits',  'tot_baidu_se_visits',  'tot_msn_se_visits',  'tot_store_page_views',  'tot_store_vmw_upgrade_page_views',  'tot_store_vmw_my_group_page_views',  'tot_store_vmw_login_views',  'tot_store_vmw_support_page_views',  'tot_store_vmw_forgot_passwd_page_views',  'tot_store_workstation_pro_product_page_views',  'tot_store_workstation_player_product_page_views',  'tot_store_fusion_pro_product_page_views',  'tot_store_mirage_product_page_views',  'tot_store_socialcast_product_page_views',  'tot_store_prodE_flex_product_page_views',  'tot_store_prodE_product_page_views',  'tot_store_prodA_essentials_kit_product_page_views',  'tot_store_prodA_editions_product_page_views',  'tot_store_prodD_editions_product_page_views',  'tot_store_prodA_robo_product_page_views',  'tot_store_vcenter_server_editions_page_views',  'tot_store_upgrade_to_fusion_page_views',  'tot_store_upgrade_to_fusion_pro_page_views',  'tot_store_upgrade_to_workstation_pro_page_views',  'tot_store_upgrade_to_workstation_player_page_views',  'tot_store_upgrade_to_prodA_enterprise_plus_page_views',  'tot_store_upgrade_to_prodA_editions_page_views',  'tot_store_upgrade_to_prodD_editions_page_views',  'tot_store_learning_credits_page_views',  'tot_store_vcp_exam_vouchers_trng_page_views',  'tot_store_learning_zone_trng_page_views',  'tot_store_support_pis_fusion_page_views',  'tot_store_support_pis_workstation_pro_page_views',  'tot_store_support_pis_prodA_essentials_page_views',  'tot_store_support_pis_prodA_hypervisor_page_views',  'num_prodA_editions_distinct',  'prodA_qty',  'dw_mkt_duns_num_key',  'num_order_lines',  'num_orders',  'flag_prodA_5_x_customer',  'flag_prodB_customer',  'flag_prodC_customer',  'flag_prodD_customer',  'flag_prodE_customer',  'flag_prodF_customer',  'flag_prodG_customer',  'flag_prodH_customer',  'flag_prodJ_customer',  'flag_prodI_customer',  'flag_prodL_customer',  'flag_prodM_customer',  'flag_prodA_std_customer',  'flag_prodA_ent_customer',  'flag_prodA_ent_plus_customer',  'prodA_2013_bookings_amount',  'prodA_2015_bookings_amount',  'prodA_5_x_2013_bookings_amount',  'prodA_5_x_2015_bookings_amount',  'prodB_2012_bookings_amount',  'prodF_2012_bookings_amount',  'prodF_2015_bookings_amount',  'prodG_2012_bookings_amount',  'prodG_2013_bookings_amount',  'prodG_2014_bookings_amount',  'prodG_2015_bookings_amount',  'prodK_booking_amount',  'num_prodK_orders',  'prodA_std_2012_bookings_amount',  'prodA_std_2013_bookings_amount',  'prodA_std_2014_bookings_amount',  'prodA_std_2015_bookings_amount',  'prodA_ent_2012_bookings_amount',  'prodA_ent_2015_bookings_amount',  'flag_duns_vertical_healthcare',  'flag_idc_vertical_healthcare',  'days_since_last_prodG_purchase_date',  'train_period_workstation_purchase_flag',  'ftr_growth_prodA_12_13',  'ftr_growth_prodG_12_13',  'ftr_growth_prodM_12_13',  'ftr_growth_prodD_13_14',  'ftr_growth_prodG_13_14',  'ftr_growth_prodA_14_15',  'ftr_growth_prodD_14_15',  'ftr_growth_prodF_14_15',  'ftr_growth_prodG_14_15',  'ftr_growth_prodA_5_x_12_13',  'ftr_growth_prodA_std_12_13',  'ftr_growth_prodA_std_13_14',  'ftr_growth_prodA_5_x_14_15',  'ftr_growth_prodA_std_14_15',  'ftr_growth_prodA_ent_14_15']"
   ]
  },
  {
   "cell_type": "code",
   "execution_count": null,
   "metadata": {},
   "outputs": [],
   "source": []
  },
  {
   "cell_type": "markdown",
   "metadata": {},
   "source": [
    "## Random Forest Classifier and Feature selection"
   ]
  },
  {
   "cell_type": "code",
   "execution_count": 192,
   "metadata": {},
   "outputs": [
    {
     "data": {
      "text/plain": [
       "RandomForestClassifier(bootstrap=True, class_weight='balanced',\n",
       "            criterion='gini', max_depth=None, max_features='auto',\n",
       "            max_leaf_nodes=None, min_impurity_decrease=0.0,\n",
       "            min_impurity_split=None, min_samples_leaf=1,\n",
       "            min_samples_split=2, min_weight_fraction_leaf=0.0,\n",
       "            n_estimators=100, n_jobs=-1, oob_score=False, random_state=42,\n",
       "            verbose=0, warm_start=False)"
      ]
     },
     "execution_count": 192,
     "metadata": {},
     "output_type": "execute_result"
    }
   ],
   "source": [
    "clf = RandomForestClassifier(n_estimators=100, random_state=42, n_jobs=-1,class_weight='balanced')\n",
    "clf.fit(X_res, y_res)\n"
   ]
  },
  {
   "cell_type": "code",
   "execution_count": 193,
   "metadata": {},
   "outputs": [],
   "source": [
    "# features that have an importance of more than 0.15\n",
    "sfm = SelectFromModel(clf, threshold=0.009)"
   ]
  },
  {
   "cell_type": "code",
   "execution_count": 195,
   "metadata": {},
   "outputs": [
    {
     "data": {
      "text/plain": [
       "SelectFromModel(estimator=RandomForestClassifier(bootstrap=True, class_weight='balanced',\n",
       "            criterion='gini', max_depth=None, max_features='auto',\n",
       "            max_leaf_nodes=None, min_impurity_decrease=0.0,\n",
       "            min_impurity_split=None, min_samples_leaf=1,\n",
       "            min_samples_split=2, min_weight_fraction_leaf=0.0,\n",
       "            n_estimators=100, n_jobs=-1, oob_score=False, random_state=42,\n",
       "            verbose=0, warm_start=False),\n",
       "        norm_order=1, prefit=False, threshold=0.009)"
      ]
     },
     "execution_count": 195,
     "metadata": {},
     "output_type": "execute_result"
    }
   ],
   "source": [
    "sfm.fit(X_res, y_res)"
   ]
  },
  {
   "cell_type": "code",
   "execution_count": 456,
   "metadata": {},
   "outputs": [
    {
     "name": "stdout",
     "output_type": "stream",
     "text": [
      "[[10926 18023]\n",
      " [   16  1035]]\n"
     ]
    }
   ],
   "source": [
    "y_pred = clf.predict(X_test)\n",
    "print(confusion_matrix(y_test, y_pred))"
   ]
  },
  {
   "cell_type": "code",
   "execution_count": 457,
   "metadata": {},
   "outputs": [
    {
     "name": "stdout",
     "output_type": "stream",
     "text": [
      "             precision    recall  f1-score   support\n",
      "\n",
      "        0.0       1.00      0.38      0.55     28949\n",
      "        1.0       0.05      0.98      0.10      1051\n",
      "\n",
      "avg / total       0.97      0.40      0.53     30000\n",
      "\n"
     ]
    }
   ],
   "source": [
    "print(classification_report(y_test, y_pred))"
   ]
  },
  {
   "cell_type": "code",
   "execution_count": 196,
   "metadata": {},
   "outputs": [],
   "source": [
    "feature_RF=[]"
   ]
  },
  {
   "cell_type": "code",
   "execution_count": 197,
   "metadata": {},
   "outputs": [
    {
     "name": "stdout",
     "output_type": "stream",
     "text": [
      "tot_page_views_l90d\n",
      "tot_visits\n",
      "tot_visits_l30d\n",
      "purchase_events\n",
      "paid_search_events\n",
      "natural_search_events\n",
      "tot_windows_visits\n",
      "tot_linux_visits\n",
      "tot_store_workstation_player_product_page_views\n",
      "tot_store_fusion_pro_product_page_views\n",
      "tot_store_prodE_flex_product_page_views\n",
      "tot_store_prodE_product_page_views\n",
      "highest_prodA_edition\n",
      "flag_prodM_customer\n",
      "flag_prodA_std_customer\n",
      "prodA_5_x_2012_bookings_amount\n"
     ]
    }
   ],
   "source": [
    "for feature_list_index in sfm.get_support(indices=True):\n",
    "    feature_RF.append(feature_list[feature_list_index])\n",
    "    print(feature_list[feature_list_index])"
   ]
  },
  {
   "cell_type": "code",
   "execution_count": 218,
   "metadata": {},
   "outputs": [],
   "source": [
    "X_important_train = sfm.transform(X_res)\n",
    "X_important_test = sfm.transform(X_test)"
   ]
  },
  {
   "cell_type": "code",
   "execution_count": 219,
   "metadata": {},
   "outputs": [],
   "source": [
    "# Create a new random forest classifier for the most important features\n",
    "clf_important = RandomForestClassifier(n_estimators=100, random_state=0, n_jobs=-1,class_weight='balanced')"
   ]
  },
  {
   "cell_type": "code",
   "execution_count": 220,
   "metadata": {},
   "outputs": [
    {
     "data": {
      "text/plain": [
       "RandomForestClassifier(bootstrap=True, class_weight='balanced',\n",
       "            criterion='gini', max_depth=None, max_features='auto',\n",
       "            max_leaf_nodes=None, min_impurity_decrease=0.0,\n",
       "            min_impurity_split=None, min_samples_leaf=1,\n",
       "            min_samples_split=2, min_weight_fraction_leaf=0.0,\n",
       "            n_estimators=100, n_jobs=-1, oob_score=False, random_state=0,\n",
       "            verbose=0, warm_start=False)"
      ]
     },
     "execution_count": 220,
     "metadata": {},
     "output_type": "execute_result"
    }
   ],
   "source": [
    "# Train the new classifier on the new dataset containing the most important features\n",
    "clf_important.fit(X_important_train, y_res)"
   ]
  },
  {
   "cell_type": "code",
   "execution_count": 221,
   "metadata": {},
   "outputs": [
    {
     "name": "stdout",
     "output_type": "stream",
     "text": [
      "[[22483  6467]\n",
      " [  131   919]]\n"
     ]
    }
   ],
   "source": [
    "# Apply The Full Featured Classifier To The Test Data\n",
    "y_pred = clf_important.predict(X_important_test)\n",
    "print(confusion_matrix(y_test, y_pred))"
   ]
  },
  {
   "cell_type": "code",
   "execution_count": 458,
   "metadata": {},
   "outputs": [
    {
     "name": "stdout",
     "output_type": "stream",
     "text": [
      "             precision    recall  f1-score   support\n",
      "\n",
      "        0.0       1.00      0.38      0.55     28949\n",
      "        1.0       0.05      0.98      0.10      1051\n",
      "\n",
      "avg / total       0.97      0.40      0.53     30000\n",
      "\n"
     ]
    }
   ],
   "source": [
    "print(classification_report(y_test, y_pred))"
   ]
  },
  {
   "cell_type": "code",
   "execution_count": 459,
   "metadata": {},
   "outputs": [
    {
     "data": {
      "image/png": "[encoded data removed]",
      "text/plain": [
       "<matplotlib.figure.Figure at 0x1ca13f99da0>"
      ]
     },
     "metadata": {},
     "output_type": "display_data"
    }
   ],
   "source": [
    "logit_roc_auc = roc_auc_score(y_test, clf.predict(X_test))\n",
    "fpr, tpr, thresholds = roc_curve(y_test, clf.predict_proba(X_test)[:,1])\n",
    "plt.figure()\n",
    "plt.plot(fpr, tpr, label='Logistic Regression (area = %0.2f)' % logit_roc_auc)\n",
    "plt.plot([0, 1], [0, 1],'r--')\n",
    "plt.xlim([0.0, 1.0])\n",
    "plt.ylim([0.0, 1.05])\n",
    "plt.xlabel('False Positive Rate')\n",
    "plt.ylabel('True Positive Rate')\n",
    "plt.title('Receiver operating characteristic')\n",
    "plt.legend(loc=\"lower right\")\n",
    "plt.savefig('Log_ROC')\n",
    "plt.show()"
   ]
  },
  {
   "cell_type": "code",
   "execution_count": 223,
   "metadata": {},
   "outputs": [],
   "source": [
    "X_val = validation_df[feature_RF]"
   ]
  },
  {
   "cell_type": "code",
   "execution_count": 224,
   "metadata": {},
   "outputs": [],
   "source": [
    "# Apply The Full Featured Classifier To The Test Data\n",
    "y_pred = clf_important.predict(X_val)"
   ]
  },
  {
   "cell_type": "code",
   "execution_count": 225,
   "metadata": {},
   "outputs": [
    {
     "name": "stdout",
     "output_type": "stream",
     "text": [
      "[[18396 29818]\n",
      " [  138  1646]]\n"
     ]
    }
   ],
   "source": [
    "print(confusion_matrix(y_val, y_pred))"
   ]
  },
  {
   "cell_type": "code",
   "execution_count": 226,
   "metadata": {},
   "outputs": [
    {
     "name": "stdout",
     "output_type": "stream",
     "text": [
      "             precision    recall  f1-score   support\n",
      "\n",
      "          0       0.99      0.38      0.55     48214\n",
      "          1       0.05      0.92      0.10      1784\n",
      "\n",
      "avg / total       0.96      0.40      0.54     49998\n",
      "\n"
     ]
    }
   ],
   "source": [
    "print(classification_report(y_val, y_pred))"
   ]
  },
  {
   "cell_type": "code",
   "execution_count": 228,
   "metadata": {},
   "outputs": [
    {
     "data": {
      "image/png": "[encoded data removed]",
      "text/plain": [
       "<matplotlib.figure.Figure at 0x1ca16796d68>"
      ]
     },
     "metadata": {},
     "output_type": "display_data"
    }
   ],
   "source": [
    "logit_roc_auc = roc_auc_score(y_test, clf_important.predict(X_important_test))\n",
    "fpr, tpr, thresholds = roc_curve(y_test, clf_important.predict_proba(X_important_test)[:,1])\n",
    "plt.figure()\n",
    "plt.plot(fpr, tpr, label='Logistic Regression (area = %0.2f)' % logit_roc_auc)\n",
    "plt.plot([0, 1], [0, 1],'r--')\n",
    "plt.xlim([0.0, 1.0])\n",
    "plt.ylim([0.0, 1.05])\n",
    "plt.xlabel('False Positive Rate')\n",
    "plt.ylabel('True Positive Rate')\n",
    "plt.title('Receiver operating characteristic')\n",
    "plt.legend(loc=\"lower right\")\n",
    "plt.savefig('Log_ROC')\n",
    "plt.show()"
   ]
  },
  {
   "cell_type": "markdown",
   "metadata": {},
   "source": [
    "#### Normal Logistic Regression"
   ]
  },
  {
   "cell_type": "code",
   "execution_count": 514,
   "metadata": {},
   "outputs": [],
   "source": [
    "# X_val =validation_df[tree_features]\n",
    "# X = training_df[tree_features]\n",
    "# X_train, X_test, y_train, y_test = train_test_split(X, y, test_size=0.3, random_state=42)\n",
    "\n",
    "# scaler1 = preprocessing.RobustScaler()\n",
    "# X_train = scaler1.fit_transform( X_train )\n",
    "# X_test= scaler1.transform( X_test)\n",
    "# X_val= scaler1.transform( X_val)\n",
    "# X_res, y_res = sm.fit_sample(X_train, y_train)\n",
    "# print (y.value_counts(), np.bincount(y_res.astype(np.int)))"
   ]
  },
  {
   "cell_type": "code",
   "execution_count": 518,
   "metadata": {},
   "outputs": [],
   "source": [
    "logistic = LogisticRegression(random_state=20)"
   ]
  },
  {
   "cell_type": "code",
   "execution_count": 523,
   "metadata": {},
   "outputs": [],
   "source": [
    "log_normal = logistic.fit(X_res,y_res)"
   ]
  },
  {
   "cell_type": "code",
   "execution_count": 534,
   "metadata": {},
   "outputs": [],
   "source": [
    "coeff=log_normal.coef_"
   ]
  },
  {
   "cell_type": "code",
   "execution_count": 535,
   "metadata": {},
   "outputs": [],
   "source": [
    "coeff=coeff.reshape(137,)"
   ]
  },
  {
   "cell_type": "code",
   "execution_count": 551,
   "metadata": {},
   "outputs": [],
   "source": [
    "normal_logistic = pd.DataFrame({'features':fpr_list,'norm_coeff':coeff})"
   ]
  },
  {
   "cell_type": "markdown",
   "metadata": {},
   "source": [
    "### Regularised Logistic regression"
   ]
  },
  {
   "cell_type": "markdown",
   "metadata": {},
   "source": [
    "### Running with Tree paraneters"
   ]
  },
  {
   "cell_type": "code",
   "execution_count": 441,
   "metadata": {},
   "outputs": [],
   "source": [
    "X_val =validation_df[fpr_list]\n",
    "X = training_df[fpr_list]"
   ]
  },
  {
   "cell_type": "code",
   "execution_count": 442,
   "metadata": {},
   "outputs": [],
   "source": [
    "\n",
    "X_train, X_test, y_train, y_test = train_test_split(X, y, test_size=0.3, random_state=42)\n",
    "\n",
    "scaler1 = preprocessing.MinMaxScaler()\n",
    "X_train = scaler1.fit_transform( X_train )\n",
    "X_test= scaler1.transform( X_test)\n",
    "X_val= scaler1.transform( X_val)\n",
    "\n",
    "\n",
    "X_train, y_train = sm.fit_sample(X_train, y_train)\n",
    "# print (y.value_counts(), np.bincount(y_train.astype(np.int)))"
   ]
  },
  {
   "cell_type": "code",
   "execution_count": 56,
   "metadata": {},
   "outputs": [
    {
     "data": {
      "text/plain": [
       "array([  1.00000000e+00,   3.16227766e+00,   1.00000000e+01,\n",
       "         3.16227766e+01,   1.00000000e+02,   3.16227766e+02,\n",
       "         1.00000000e+03,   3.16227766e+03,   1.00000000e+04])"
      ]
     },
     "execution_count": 56,
     "metadata": {},
     "output_type": "execute_result"
    }
   ],
   "source": [
    "np.logspace(0,4,9)"
   ]
  },
  {
   "cell_type": "markdown",
   "metadata": {},
   "source": [
    "### Create regularization hyperparameter space\n",
    "### Implement gridsearch for parameter tuning"
   ]
  },
  {
   "cell_type": "code",
   "execution_count": 444,
   "metadata": {},
   "outputs": [],
   "source": [
    "from sklearn.model_selection import GridSearchCV\n",
    "C =np.logspace(0,4,9)\n",
    "\n",
    "penalty =['l1']\n",
    "\n",
    "# Create hyperparameter options\n",
    "\n",
    "hyperparameters = dict(C=C, penalty=penalty)\n",
    "logreg = LogisticRegression(penalty='l1',tol=0.01,class_weight='balanced', random_state=42)\n",
    "clf_CV =  GridSearchCV(logreg, hyperparameters, cv=5, verbose=0)\n",
    "best_model = clf_CV.fit(X_res,y_res)\n",
    "\n",
    "\n",
    "    \n",
    "\n",
    "    "
   ]
  },
  {
   "cell_type": "code",
   "execution_count": 445,
   "metadata": {},
   "outputs": [
    {
     "name": "stdout",
     "output_type": "stream",
     "text": [
      "Best Penalty: l1\n",
      "Best C: 100.0\n"
     ]
    }
   ],
   "source": [
    "# View best hyperparameters\n",
    "print('Best Penalty:', best_model.best_estimator_.get_params()['penalty'])\n",
    "print('Best C:', best_model.best_estimator_.get_params()['C'])"
   ]
  },
  {
   "cell_type": "markdown",
   "metadata": {},
   "source": [
    "#### Run regression again with the hyperparameter found using grid serach"
   ]
  },
  {
   "cell_type": "code",
   "execution_count": 537,
   "metadata": {},
   "outputs": [
    {
     "name": "stdout",
     "output_type": "stream",
     "text": [
      "When regularization parameter C is : 100\n",
      "Coefficient of each feature: [[ -2.28846033e+00  -2.12398523e+00   1.11279305e+00   5.44360406e+00\n",
      "   -8.61641433e-01  -9.40093282e+00  -3.31564985e-01   1.81312915e+00\n",
      "    3.39353388e+00   4.91252416e+00   9.14016678e+00  -1.81072834e+00\n",
      "    1.31214461e-01  -2.87576689e-01   4.46595528e-02   4.79942645e+00\n",
      "   -5.36198221e-01   3.99494186e-01   4.52160962e-01   0.00000000e+00\n",
      "   -3.11112236e+00   0.00000000e+00   9.56788535e-01   1.03303992e+00\n",
      "    0.00000000e+00   0.00000000e+00  -1.90680463e-02   0.00000000e+00\n",
      "    0.00000000e+00   3.05698414e-01   0.00000000e+00  -4.76460574e+00\n",
      "   -1.04866410e+00   0.00000000e+00   5.42004764e+01   8.32612069e+00\n",
      "    0.00000000e+00   0.00000000e+00   0.00000000e+00   0.00000000e+00\n",
      "    0.00000000e+00   0.00000000e+00   0.00000000e+00   0.00000000e+00\n",
      "   -1.01845561e-01   0.00000000e+00   0.00000000e+00  -3.25008127e-02\n",
      "    0.00000000e+00   0.00000000e+00   0.00000000e+00   0.00000000e+00\n",
      "   -2.61615237e-01   0.00000000e+00   0.00000000e+00  -1.00653564e+00\n",
      "    0.00000000e+00   0.00000000e+00   0.00000000e+00   3.46558103e-01\n",
      "   -3.59886009e-01   3.74312079e-01  -8.52571267e+00   0.00000000e+00\n",
      "    2.09813163e-02  -6.68763831e-01   0.00000000e+00  -7.40787405e-03\n",
      "    7.45122085e-01  -1.35388617e+01   0.00000000e+00   0.00000000e+00\n",
      "    0.00000000e+00   1.35277069e-01   7.40106020e-02   5.01175391e-02\n",
      "   -1.46643958e-01  -2.26784821e-02   9.60755284e-01   4.73812443e-01\n",
      "   -2.23111480e-01   8.74945517e-01   3.75878440e-01   8.31782918e-01\n",
      "    3.23163434e-01   9.17122031e-01   5.86342758e-01   1.31491780e-01\n",
      "    6.43071646e-02   1.77374916e-01  -2.43311621e+00  -8.62176044e-01\n",
      "    4.73127473e-01  -7.81169179e-02  -1.04936384e+00  -7.27990529e-02\n",
      "    1.25376131e-01   1.70990639e-01  -1.57019743e-01   3.01058771e-01\n",
      "   -1.52800748e-01   5.91154441e-01   4.24028390e-01  -5.00496220e-02\n",
      "    2.74242614e-01  -1.74502100e-02   7.13781444e-02  -2.67276599e-01\n",
      "   -1.47708878e-01   3.25288480e-01   3.18209380e-01   2.85129863e-01\n",
      "   -1.75883665e-01   9.85252165e-01   4.45143758e+01  -5.90481708e+00\n",
      "   -3.56226205e-01   0.00000000e+00   3.01170062e+01   0.00000000e+00\n",
      "    0.00000000e+00   0.00000000e+00   0.00000000e+00  -2.51252320e+00\n",
      "    0.00000000e+00   0.00000000e+00   4.70022843e-01   4.51903622e+01\n",
      "    0.00000000e+00   0.00000000e+00  -5.29490395e+00   0.00000000e+00\n",
      "   -6.53348513e-01   0.00000000e+00   0.00000000e+00   0.00000000e+00\n",
      "   -1.85942517e+00]]\n",
      "Training accuracy: 0.825643119641\n",
      "Test accuracy: 0.795333333333\n",
      "Validation accuracy: 0.0672626905076\n",
      "Report for validation\n",
      "             precision    recall  f1-score   support\n",
      "\n",
      "          0       1.00      0.03      0.06     48214\n",
      "          1       0.04      1.00      0.07      1784\n",
      "\n",
      "avg / total       0.96      0.07      0.06     49998\n",
      "\n",
      "Report for test\n",
      "             precision    recall  f1-score   support\n",
      "\n",
      "        0.0       0.99      0.79      0.88     28949\n",
      "        1.0       0.13      0.85      0.23      1051\n",
      "\n",
      "avg / total       0.96      0.80      0.86     30000\n",
      "\n",
      "ROC-AUC for validation set\n"
     ]
    },
    {
     "data": {
      "image/png": "[encoded data removed]",
      "text/plain": [
       "<matplotlib.figure.Figure at 0x1ca1ccb66d8>"
      ]
     },
     "metadata": {},
     "output_type": "display_data"
    },
    {
     "name": "stdout",
     "output_type": "stream",
     "text": [
      "\n"
     ]
    }
   ],
   "source": [
    "logreg = LogisticRegression(penalty='l1',C=32,tol=0.1,class_weight='balanced', random_state=42)\n",
    "logreg.fit(X_res, y_res)\n",
    "y_pred = logreg.predict(X_test)\n",
    "y_pred_val = logreg.predict(X_val)\n",
    "print('When regularization parameter C is :', 100)\n",
    "print('Coefficient of each feature:', logreg.coef_)\n",
    "print('Training accuracy:', logreg.score(X_res, y_res))\n",
    "print('Test accuracy:', logreg.score(X_test, y_test))\n",
    "print('Validation accuracy:', logreg.score(X_val, y_val))\n",
    "print(\"Report for validation\")\n",
    "print(classification_report(y_val, y_pred_val))\n",
    "print(\"Report for test\")\n",
    "print(classification_report(y_test, y_pred))\n",
    "\n",
    "print('ROC-AUC for validation set')\n",
    "logit_roc_auc = roc_auc_score(y_test, logreg.predict(X_test))\n",
    "fpr, tpr, thresholds = roc_curve(y_test, logreg.predict_proba(X_test)[:,1])\n",
    "plt.figure()\n",
    "plt.plot(fpr, tpr, label='Logistic Regression (area = %0.2f)' % logit_roc_auc)\n",
    "plt.plot([0, 1], [0, 1],'r--')\n",
    "plt.xlim([0.0, 1.0])\n",
    "plt.ylim([0.0, 1.05])\n",
    "plt.xlabel('False Positive Rate')\n",
    "plt.ylabel('True Positive Rate')\n",
    "plt.title('Receiver operating characteristic')\n",
    "plt.legend(loc=\"lower right\")\n",
    "\n",
    "plt.savefig('Log_ROC')\n",
    "plt.show()\n",
    "print('')"
   ]
  },
  {
   "cell_type": "code",
   "execution_count": 539,
   "metadata": {},
   "outputs": [],
   "source": [
    "reg_log= logreg.coef_"
   ]
  },
  {
   "cell_type": "code",
   "execution_count": 543,
   "metadata": {},
   "outputs": [],
   "source": [
    "reg_log=reg_log.reshape(137,)"
   ]
  },
  {
   "cell_type": "code",
   "execution_count": 550,
   "metadata": {},
   "outputs": [],
   "source": [
    "reg_logistic = pd.DataFrame({'features':fpr_list,'reg_coef':reg_log})"
   ]
  },
  {
   "cell_type": "code",
   "execution_count": 552,
   "metadata": {},
   "outputs": [],
   "source": [
    "compare_coeff = pd.merge(reg_logistic, normal_logistic, on='features')"
   ]
  },
  {
   "cell_type": "code",
   "execution_count": 559,
   "metadata": {},
   "outputs": [
    {
     "data": {
      "text/html": [
       "<div>\n",
       "<style>\n",
       "    .dataframe thead tr:only-child th {\n",
       "        text-align: right;\n",
       "    }\n",
       "\n",
       "    .dataframe thead th {\n",
       "        text-align: left;\n",
       "    }\n",
       "\n",
       "    .dataframe tbody tr th {\n",
       "        vertical-align: top;\n",
       "    }\n",
       "</style>\n",
       "<table border=\"1\" class=\"dataframe\">\n",
       "  <thead>\n",
       "    <tr style=\"text-align: right;\">\n",
       "      <th></th>\n",
       "      <th>features</th>\n",
       "      <th>reg_coef</th>\n",
       "      <th>norm_coeff</th>\n",
       "    </tr>\n",
       "  </thead>\n",
       "  <tbody>\n",
       "    <tr>\n",
       "      <th>0</th>\n",
       "      <td>buy_now_events</td>\n",
       "      <td>-2.288460</td>\n",
       "      <td>-0.624149</td>\n",
       "    </tr>\n",
       "    <tr>\n",
       "      <th>1</th>\n",
       "      <td>product_view_events</td>\n",
       "      <td>-2.123985</td>\n",
       "      <td>-0.462336</td>\n",
       "    </tr>\n",
       "    <tr>\n",
       "      <th>2</th>\n",
       "      <td>purchase_events</td>\n",
       "      <td>1.112793</td>\n",
       "      <td>1.056374</td>\n",
       "    </tr>\n",
       "    <tr>\n",
       "      <th>3</th>\n",
       "      <td>tot_last_touch_src_codes_views</td>\n",
       "      <td>5.443604</td>\n",
       "      <td>0.711809</td>\n",
       "    </tr>\n",
       "    <tr>\n",
       "      <th>4</th>\n",
       "      <td>tot_store_page_views</td>\n",
       "      <td>-0.861641</td>\n",
       "      <td>0.458519</td>\n",
       "    </tr>\n",
       "    <tr>\n",
       "      <th>5</th>\n",
       "      <td>tot_store_vmw_upgrade_page_views</td>\n",
       "      <td>-9.400933</td>\n",
       "      <td>-0.510224</td>\n",
       "    </tr>\n",
       "    <tr>\n",
       "      <th>6</th>\n",
       "      <td>tot_store_workstation_pro_product_page_views</td>\n",
       "      <td>-0.331565</td>\n",
       "      <td>0.012912</td>\n",
       "    </tr>\n",
       "    <tr>\n",
       "      <th>7</th>\n",
       "      <td>tot_store_workstation_player_product_page_views</td>\n",
       "      <td>1.813129</td>\n",
       "      <td>0.063480</td>\n",
       "    </tr>\n",
       "    <tr>\n",
       "      <th>8</th>\n",
       "      <td>tot_store_upgrade_to_fusion_pro_page_views</td>\n",
       "      <td>3.393534</td>\n",
       "      <td>-0.025465</td>\n",
       "    </tr>\n",
       "    <tr>\n",
       "      <th>9</th>\n",
       "      <td>tot_store_upgrade_to_workstation_pro_page_views</td>\n",
       "      <td>4.912524</td>\n",
       "      <td>0.275600</td>\n",
       "    </tr>\n",
       "    <tr>\n",
       "      <th>10</th>\n",
       "      <td>tot_store_upgrade_to_workstation_player_page_v...</td>\n",
       "      <td>9.140167</td>\n",
       "      <td>0.232240</td>\n",
       "    </tr>\n",
       "    <tr>\n",
       "      <th>11</th>\n",
       "      <td>tot_store_learning_credits_page_views</td>\n",
       "      <td>-1.810728</td>\n",
       "      <td>-0.277510</td>\n",
       "    </tr>\n",
       "    <tr>\n",
       "      <th>12</th>\n",
       "      <td>num_prodA_editions_distinct</td>\n",
       "      <td>0.131214</td>\n",
       "      <td>0.277419</td>\n",
       "    </tr>\n",
       "    <tr>\n",
       "      <th>13</th>\n",
       "      <td>days_bw_prodG_launch_and_purch</td>\n",
       "      <td>-0.287577</td>\n",
       "      <td>-1.994054</td>\n",
       "    </tr>\n",
       "    <tr>\n",
       "      <th>14</th>\n",
       "      <td>dw_mkt_duns_num_key</td>\n",
       "      <td>0.044660</td>\n",
       "      <td>0.043325</td>\n",
       "    </tr>\n",
       "    <tr>\n",
       "      <th>15</th>\n",
       "      <td>num_orders</td>\n",
       "      <td>4.799426</td>\n",
       "      <td>1.591127</td>\n",
       "    </tr>\n",
       "    <tr>\n",
       "      <th>16</th>\n",
       "      <td>flag_prodA_5_x_customer</td>\n",
       "      <td>-0.536198</td>\n",
       "      <td>0.009192</td>\n",
       "    </tr>\n",
       "    <tr>\n",
       "      <th>17</th>\n",
       "      <td>flag_prodF_customer</td>\n",
       "      <td>0.399494</td>\n",
       "      <td>0.330536</td>\n",
       "    </tr>\n",
       "    <tr>\n",
       "      <th>18</th>\n",
       "      <td>flag_prodG_customer</td>\n",
       "      <td>0.452161</td>\n",
       "      <td>2.694153</td>\n",
       "    </tr>\n",
       "    <tr>\n",
       "      <th>19</th>\n",
       "      <td>flag_prodO_customer</td>\n",
       "      <td>0.000000</td>\n",
       "      <td>0.001003</td>\n",
       "    </tr>\n",
       "  </tbody>\n",
       "</table>\n",
       "</div>"
      ],
      "text/plain": [
       "                                             features  reg_coef  norm_coeff\n",
       "0                                      buy_now_events -2.288460   -0.624149\n",
       "1                                 product_view_events -2.123985   -0.462336\n",
       "2                                     purchase_events  1.112793    1.056374\n",
       "3                      tot_last_touch_src_codes_views  5.443604    0.711809\n",
       "4                                tot_store_page_views -0.861641    0.458519\n",
       "5                    tot_store_vmw_upgrade_page_views -9.400933   -0.510224\n",
       "6        tot_store_workstation_pro_product_page_views -0.331565    0.012912\n",
       "7     tot_store_workstation_player_product_page_views  1.813129    0.063480\n",
       "8          tot_store_upgrade_to_fusion_pro_page_views  3.393534   -0.025465\n",
       "9     tot_store_upgrade_to_workstation_pro_page_views  4.912524    0.275600\n",
       "10  tot_store_upgrade_to_workstation_player_page_v...  9.140167    0.232240\n",
       "11              tot_store_learning_credits_page_views -1.810728   -0.277510\n",
       "12                        num_prodA_editions_distinct  0.131214    0.277419\n",
       "13                     days_bw_prodG_launch_and_purch -0.287577   -1.994054\n",
       "14                                dw_mkt_duns_num_key  0.044660    0.043325\n",
       "15                                         num_orders  4.799426    1.591127\n",
       "16                            flag_prodA_5_x_customer -0.536198    0.009192\n",
       "17                                flag_prodF_customer  0.399494    0.330536\n",
       "18                                flag_prodG_customer  0.452161    2.694153\n",
       "19                                flag_prodO_customer  0.000000    0.001003"
      ]
     },
     "execution_count": 559,
     "metadata": {},
     "output_type": "execute_result"
    }
   ],
   "source": [
    "compare_coeff.head(20)"
   ]
  },
  {
   "cell_type": "code",
   "execution_count": 565,
   "metadata": {},
   "outputs": [
    {
     "name": "stdout",
     "output_type": "stream",
     "text": [
      "One-way ANOVA P = 0.103749225059\n"
     ]
    }
   ],
   "source": [
    "from scipy import stats  \n",
    "reg_log=np.array(compare_coeff['reg_coef'])\n",
    "norm_log=np.array(compare_coeff['norm_coeff'])\n",
    "f_val, p_val = stats.f_oneway(reg_log, norm_log)  \n",
    "  \n",
    "print (\"One-way ANOVA P =\", p_val)"
   ]
  },
  {
   "cell_type": "markdown",
   "metadata": {},
   "source": [
    "### As P > 0.05, we can claim with high confidence that the means of the results of normal and regularized logistic regression are not significantly different."
   ]
  },
  {
   "cell_type": "markdown",
   "metadata": {},
   "source": [
    "### When C=1"
   ]
  },
  {
   "cell_type": "code",
   "execution_count": 140,
   "metadata": {},
   "outputs": [
    {
     "name": "stdout",
     "output_type": "stream",
     "text": [
      "When regularization parameter C is : 1\n",
      "\n",
      "\n",
      "Coefficient of each feature: [[ -3.14162190e-01   5.09919471e-01  -9.51418780e-05   3.62566728e-02\n",
      "    3.78920891e-05  -7.61386522e-03  -8.68195890e-03  -5.51092747e-02\n",
      "   -3.59775771e-01   5.38498950e-02   4.33798506e-02   1.85130662e-02\n",
      "    9.84150390e-03  -3.21422222e-05  -3.09753386e-01  -9.23814671e-05\n",
      "    1.97860173e-02   2.47612709e+00   3.20110474e-02   2.53359484e-03\n",
      "    2.42547000e-01  -1.18139432e-01   1.19564951e-02   2.76439574e-01\n",
      "   -2.83513364e-01   4.71441774e-03  -2.65014164e-04   1.42616145e-01\n",
      "    1.20905816e-02  -1.18369940e-02  -3.22890505e-01  -2.38608288e-03\n",
      "    5.03359519e-02  -1.19132256e-02  -2.05586939e-02  -1.06304720e-01\n",
      "    7.17280842e-04   6.85818481e-03   3.16084203e-02   3.62608040e-05\n",
      "   -8.15953824e-03  -3.14863660e-04   5.57104579e-05   1.74146266e-03\n",
      "    1.58675399e-02   3.58334791e-01  -1.85830398e-02  -7.92467879e-03\n",
      "    7.31091381e-04  -1.25605166e-03  -2.17031914e-01]]\n",
      "Training accuracy: 0.827757216876\n",
      "Test accuracy: 0.806433333333\n",
      "Validation accuracy: 0.579323172927\n",
      "Report for validation\n",
      "             precision    recall  f1-score   support\n",
      "\n",
      "          0       0.98      0.58      0.73     48214\n",
      "          1       0.05      0.66      0.10      1784\n",
      "\n",
      "avg / total       0.95      0.58      0.70     49998\n",
      "\n",
      "Report for test\n",
      "             precision    recall  f1-score   support\n",
      "\n",
      "          0       0.99      0.80      0.89     28949\n",
      "          1       0.14      0.85      0.24      1051\n",
      "\n",
      "avg / total       0.96      0.81      0.87     30000\n",
      "\n",
      "ROC-AUC for validation set\n"
     ]
    },
    {
     "name": "stderr",
     "output_type": "stream",
     "text": [
      "c:\\users\\harish\\anaconda3\\lib\\site-packages\\sklearn\\linear_model\\base.py:340: RuntimeWarning: overflow encountered in exp\n",
      "  np.exp(prob, prob)\n"
     ]
    },
    {
     "data": {
      "image/png": "[encoded data removed]",
      "text/plain": [
       "<matplotlib.figure.Figure at 0x17510603780>"
      ]
     },
     "metadata": {},
     "output_type": "display_data"
    },
    {
     "name": "stdout",
     "output_type": "stream",
     "text": [
      "\n"
     ]
    }
   ],
   "source": [
    "logreg1 = LogisticRegression(penalty='l1',C=1,tol=0.1,class_weight='balanced', random_state=42)\n",
    "logreg1.fit(X_res, y_res)\n",
    "y_pred = logreg1.predict(X_test)\n",
    "y_pred_val = logreg1.predict(X_val)\n",
    "print('When regularization parameter C is :', 1)\n",
    "print('\\n')\n",
    "print('Coefficient of each feature:', logreg1.coef_)\n",
    "print('Training accuracy:', logreg1.score(X_res, y_res))\n",
    "print('Test accuracy:', logreg1.score(X_test, y_test))\n",
    "print('Validation accuracy:', logreg1.score(X_val, y_val))\n",
    "print(\"Report for validation\")\n",
    "print(classification_report(y_val, y_pred_val))\n",
    "print(\"Report for test\")\n",
    "print(classification_report(y_test, y_pred))\n",
    "\n",
    "print('ROC-AUC for validation set')\n",
    "logit_roc_auc = roc_auc_score(y_val, logreg1.predict(X_val))\n",
    "fpr, tpr, thresholds = roc_curve(y_val, logreg1.predict_proba(X_val)[:,1])\n",
    "plt.figure()\n",
    "plt.plot(fpr, tpr, label='Logistic Regression (area = %0.2f)' % logit_roc_auc)\n",
    "plt.plot([0, 1], [0, 1],'r--')\n",
    "plt.xlim([0.0, 1.0])\n",
    "plt.ylim([0.0, 1.05])\n",
    "plt.xlabel('False Positive Rate')\n",
    "plt.ylabel('True Positive Rate')\n",
    "plt.title('Receiver operating characteristic')\n",
    "plt.legend(loc=\"lower right\")\n",
    "plt.savefig('Log_ROC')\n",
    "plt.show()\n",
    "print('')\n"
   ]
  },
  {
   "cell_type": "markdown",
   "metadata": {},
   "source": [
    "### When C=0.001"
   ]
  },
  {
   "cell_type": "code",
   "execution_count": 51,
   "metadata": {},
   "outputs": [
    {
     "name": "stdout",
     "output_type": "stream",
     "text": [
      "When regularization parameter C is : 0.001\n",
      "Coefficient of each feature: [[  7.45634952e-02  -1.46460555e-01   5.93534426e-01   0.00000000e+00\n",
      "    1.40715317e-01   3.20978937e-02   0.00000000e+00   0.00000000e+00\n",
      "   -2.08209433e-01  -2.44016263e-02   1.99254902e-02  -1.01881389e-01\n",
      "    0.00000000e+00  -1.67412267e-03   0.00000000e+00   0.00000000e+00\n",
      "   -5.49805330e-04   0.00000000e+00   2.15053770e-02  -1.15404907e-03\n",
      "    0.00000000e+00   0.00000000e+00  -1.59226260e-03   0.00000000e+00\n",
      "    0.00000000e+00   0.00000000e+00   0.00000000e+00   0.00000000e+00\n",
      "    0.00000000e+00   0.00000000e+00   0.00000000e+00   0.00000000e+00\n",
      "    0.00000000e+00   0.00000000e+00  -7.32013286e-04   0.00000000e+00\n",
      "    3.34841849e-04   0.00000000e+00   0.00000000e+00   7.10631857e-02\n",
      "   -2.08324151e-06  -8.95035967e-05   5.05010696e-04   0.00000000e+00\n",
      "   -5.24076804e-04   6.60296243e-04   0.00000000e+00   1.41464108e-04]]\n",
      "Training accuracy: 0.818837897853\n",
      "Test accuracy: 0.794733333333\n",
      "Validation accuracy: 0.92519700788\n",
      "Report for validation\n",
      "             precision    recall  f1-score   support\n",
      "\n",
      "          0       0.97      0.95      0.96     48214\n",
      "          1       0.16      0.25      0.19      1784\n",
      "\n",
      "avg / total       0.94      0.93      0.93     49998\n",
      "\n",
      "Report for test\n",
      "             precision    recall  f1-score   support\n",
      "\n",
      "          0       0.99      0.79      0.88     28949\n",
      "          1       0.13      0.85      0.22      1051\n",
      "\n",
      "avg / total       0.96      0.79      0.86     30000\n",
      "\n",
      "ROC-AUC for validation set\n"
     ]
    },
    {
     "name": "stderr",
     "output_type": "stream",
     "text": [
      "c:\\users\\harish\\anaconda3\\lib\\site-packages\\sklearn\\linear_model\\base.py:340: RuntimeWarning: overflow encountered in exp\n",
      "  np.exp(prob, prob)\n"
     ]
    },
    {
     "data": {
      "image/png": "[encoded data removed]",
      "text/plain": [
       "<matplotlib.figure.Figure at 0x2ac05f98940>"
      ]
     },
     "metadata": {},
     "output_type": "display_data"
    },
    {
     "name": "stdout",
     "output_type": "stream",
     "text": [
      "\n"
     ]
    }
   ],
   "source": [
    "logreg = LogisticRegression(penalty='l1',C=0.001,tol=0.1,class_weight='balanced', random_state=42)\n",
    "logreg.fit(X_res, y_res)\n",
    "y_pred = logreg.predict(X_test)\n",
    "y_pred_val = logreg.predict(X_val)\n",
    "print('When regularization parameter C is :', 0.001)\n",
    "print('Coefficient of each feature:', logreg.coef_)\n",
    "print('Training accuracy:', logreg.score(X_res, y_res))\n",
    "print('Test accuracy:', logreg.score(X_test, y_test))\n",
    "print('Validation accuracy:', logreg.score(X_val, y_val))\n",
    "print(\"Report for validation\")\n",
    "print(classification_report(y_val, y_pred_val))\n",
    "print(\"Report for test\")\n",
    "print(classification_report(y_test, y_pred))\n",
    "\n",
    "print('ROC-AUC for validation set')\n",
    "logit_roc_auc = roc_auc_score(y_val, logreg.predict(X_val))\n",
    "fpr, tpr, thresholds = roc_curve(y_val, logreg.predict_proba(X_val)[:,1])\n",
    "plt.figure()\n",
    "plt.plot(fpr, tpr, label='Logistic Regression (area = %0.2f)' % logit_roc_auc)\n",
    "plt.plot([0, 1], [0, 1],'r--')\n",
    "plt.xlim([0.0, 1.0])\n",
    "plt.ylim([0.0, 1.05])\n",
    "plt.xlabel('False Positive Rate')\n",
    "plt.ylabel('True Positive Rate')\n",
    "plt.title('Receiver operating characteristic')\n",
    "plt.legend(loc=\"lower right\")\n",
    "plt.savefig('Log_ROC')\n",
    "plt.show()\n",
    "print('')"
   ]
  },
  {
   "cell_type": "markdown",
   "metadata": {},
   "source": [
    "### LASSO Techniques to check the influence on parameter when alpha is set to 0"
   ]
  },
  {
   "cell_type": "code",
   "execution_count": 72,
   "metadata": {},
   "outputs": [],
   "source": [
    "from sklearn.linear_model import Lasso"
   ]
  },
  {
   "cell_type": "code",
   "execution_count": 99,
   "metadata": {},
   "outputs": [],
   "source": [
    "names = feature_list"
   ]
  },
  {
   "cell_type": "code",
   "execution_count": 100,
   "metadata": {},
   "outputs": [],
   "source": [
    "def lasso(alphas):\n",
    "  \n",
    "    df = pd.DataFrame()\n",
    "    \n",
    "    # Create a column of feature names\n",
    "    df['Feature Name'] = names\n",
    "    \n",
    "    # For each alpha value in the list of alpha values,\n",
    "    for alpha in alphas:\n",
    "        # Create a lasso regression with that alpha value,\n",
    "        lasso = Lasso(alpha=alpha)\n",
    "        \n",
    "        # Fit the lasso regression\n",
    "        lasso.fit(X_train, y_train)\n",
    "        \n",
    "        # Create a column name for that alpha value\n",
    "        column_name = 'Alpha = %f' % alpha\n",
    "\n",
    "        # Create a column of coefficient values\n",
    "        df[column_name] = lasso.coef_\n",
    "        \n",
    "    # Return the datafram    \n",
    "    return df"
   ]
  },
  {
   "cell_type": "code",
   "execution_count": 102,
   "metadata": {},
   "outputs": [
    {
     "name": "stderr",
     "output_type": "stream",
     "text": [
      "c:\\users\\harish\\anaconda3\\lib\\site-packages\\ipykernel_launcher.py:14: UserWarning: With alpha=0, this algorithm does not converge well. You are advised to use the LinearRegression estimator\n",
      "  \n",
      "c:\\users\\harish\\anaconda3\\lib\\site-packages\\sklearn\\linear_model\\coordinate_descent.py:477: UserWarning: Coordinate descent with no regularization may lead to unexpected results and is discouraged.\n",
      "  positive)\n",
      "c:\\users\\harish\\anaconda3\\lib\\site-packages\\sklearn\\linear_model\\coordinate_descent.py:491: ConvergenceWarning: Objective did not converge. You might want to increase the number of iterations. Fitting data with very small alpha may cause precision problems.\n",
      "  ConvergenceWarning)\n"
     ]
    },
    {
     "data": {
      "text/html": [
       "<div>\n",
       "<style>\n",
       "    .dataframe thead tr:only-child th {\n",
       "        text-align: right;\n",
       "    }\n",
       "\n",
       "    .dataframe thead th {\n",
       "        text-align: left;\n",
       "    }\n",
       "\n",
       "    .dataframe tbody tr th {\n",
       "        vertical-align: top;\n",
       "    }\n",
       "</style>\n",
       "<table border=\"1\" class=\"dataframe\">\n",
       "  <thead>\n",
       "    <tr style=\"text-align: right;\">\n",
       "      <th></th>\n",
       "      <th>Feature Name</th>\n",
       "      <th>Alpha = 0.000000</th>\n",
       "      <th>Alpha = 1.000000</th>\n",
       "    </tr>\n",
       "  </thead>\n",
       "  <tbody>\n",
       "    <tr>\n",
       "      <th>0</th>\n",
       "      <td>tot_page_views</td>\n",
       "      <td>6.719517e-05</td>\n",
       "      <td>0.0</td>\n",
       "    </tr>\n",
       "    <tr>\n",
       "      <th>1</th>\n",
       "      <td>tot_page_views_l30d</td>\n",
       "      <td>-1.251901e-04</td>\n",
       "      <td>0.0</td>\n",
       "    </tr>\n",
       "    <tr>\n",
       "      <th>2</th>\n",
       "      <td>tot_page_views_l90d</td>\n",
       "      <td>1.193672e-04</td>\n",
       "      <td>0.0</td>\n",
       "    </tr>\n",
       "    <tr>\n",
       "      <th>3</th>\n",
       "      <td>tot_visits</td>\n",
       "      <td>-5.157667e-03</td>\n",
       "      <td>0.0</td>\n",
       "    </tr>\n",
       "    <tr>\n",
       "      <th>4</th>\n",
       "      <td>tot_visits_l30d</td>\n",
       "      <td>2.302273e-03</td>\n",
       "      <td>0.0</td>\n",
       "    </tr>\n",
       "    <tr>\n",
       "      <th>5</th>\n",
       "      <td>tot_visits_l90d</td>\n",
       "      <td>-1.370754e-03</td>\n",
       "      <td>0.0</td>\n",
       "    </tr>\n",
       "    <tr>\n",
       "      <th>6</th>\n",
       "      <td>internal_search_events</td>\n",
       "      <td>-1.959987e-03</td>\n",
       "      <td>-0.0</td>\n",
       "    </tr>\n",
       "    <tr>\n",
       "      <th>7</th>\n",
       "      <td>buy_now_events</td>\n",
       "      <td>1.118084e-02</td>\n",
       "      <td>0.0</td>\n",
       "    </tr>\n",
       "    <tr>\n",
       "      <th>8</th>\n",
       "      <td>download_trial_events</td>\n",
       "      <td>1.699674e-02</td>\n",
       "      <td>0.0</td>\n",
       "    </tr>\n",
       "    <tr>\n",
       "      <th>9</th>\n",
       "      <td>support_search_events</td>\n",
       "      <td>-1.791405e-02</td>\n",
       "      <td>-0.0</td>\n",
       "    </tr>\n",
       "    <tr>\n",
       "      <th>10</th>\n",
       "      <td>get_pricing_events</td>\n",
       "      <td>2.752966e-02</td>\n",
       "      <td>-0.0</td>\n",
       "    </tr>\n",
       "    <tr>\n",
       "      <th>11</th>\n",
       "      <td>product_view_events</td>\n",
       "      <td>-2.249711e-03</td>\n",
       "      <td>0.0</td>\n",
       "    </tr>\n",
       "    <tr>\n",
       "      <th>12</th>\n",
       "      <td>campaign_view_events</td>\n",
       "      <td>8.780465e-04</td>\n",
       "      <td>0.0</td>\n",
       "    </tr>\n",
       "    <tr>\n",
       "      <th>13</th>\n",
       "      <td>purchase_events</td>\n",
       "      <td>-1.368878e-03</td>\n",
       "      <td>0.0</td>\n",
       "    </tr>\n",
       "    <tr>\n",
       "      <th>14</th>\n",
       "      <td>paid_search_events</td>\n",
       "      <td>-3.113001e-02</td>\n",
       "      <td>-0.0</td>\n",
       "    </tr>\n",
       "    <tr>\n",
       "      <th>15</th>\n",
       "      <td>natural_search_events</td>\n",
       "      <td>-1.264749e-04</td>\n",
       "      <td>-0.0</td>\n",
       "    </tr>\n",
       "    <tr>\n",
       "      <th>16</th>\n",
       "      <td>tot_campaign_visits</td>\n",
       "      <td>-2.061699e-03</td>\n",
       "      <td>-0.0</td>\n",
       "    </tr>\n",
       "    <tr>\n",
       "      <th>17</th>\n",
       "      <td>tot_paid_search_visits</td>\n",
       "      <td>3.685215e-02</td>\n",
       "      <td>0.0</td>\n",
       "    </tr>\n",
       "    <tr>\n",
       "      <th>18</th>\n",
       "      <td>tot_google_browser_visits</td>\n",
       "      <td>6.060979e-04</td>\n",
       "      <td>0.0</td>\n",
       "    </tr>\n",
       "    <tr>\n",
       "      <th>19</th>\n",
       "      <td>tot_mozilla_browser_visits</td>\n",
       "      <td>3.952462e-04</td>\n",
       "      <td>0.0</td>\n",
       "    </tr>\n",
       "    <tr>\n",
       "      <th>20</th>\n",
       "      <td>tot_microsoft_browser_visits</td>\n",
       "      <td>5.112222e-04</td>\n",
       "      <td>0.0</td>\n",
       "    </tr>\n",
       "    <tr>\n",
       "      <th>21</th>\n",
       "      <td>tot_apple_browser_visits</td>\n",
       "      <td>-2.211631e-04</td>\n",
       "      <td>-0.0</td>\n",
       "    </tr>\n",
       "    <tr>\n",
       "      <th>22</th>\n",
       "      <td>tot_opera_browser_visits</td>\n",
       "      <td>-2.600677e-04</td>\n",
       "      <td>0.0</td>\n",
       "    </tr>\n",
       "    <tr>\n",
       "      <th>23</th>\n",
       "      <td>tot_other_browser_visits</td>\n",
       "      <td>9.778142e-04</td>\n",
       "      <td>0.0</td>\n",
       "    </tr>\n",
       "    <tr>\n",
       "      <th>24</th>\n",
       "      <td>tot_internal_ref_visits</td>\n",
       "      <td>-2.266616e-04</td>\n",
       "      <td>0.0</td>\n",
       "    </tr>\n",
       "    <tr>\n",
       "      <th>25</th>\n",
       "      <td>tot_search_engine_ref_visits</td>\n",
       "      <td>5.553197e-04</td>\n",
       "      <td>0.0</td>\n",
       "    </tr>\n",
       "    <tr>\n",
       "      <th>26</th>\n",
       "      <td>tot_email_ref_visits</td>\n",
       "      <td>9.828858e-03</td>\n",
       "      <td>0.0</td>\n",
       "    </tr>\n",
       "    <tr>\n",
       "      <th>27</th>\n",
       "      <td>tot_social_media_ref_visits</td>\n",
       "      <td>1.114285e-03</td>\n",
       "      <td>-0.0</td>\n",
       "    </tr>\n",
       "    <tr>\n",
       "      <th>28</th>\n",
       "      <td>tot_other_ref_visits</td>\n",
       "      <td>-1.234813e-03</td>\n",
       "      <td>0.0</td>\n",
       "    </tr>\n",
       "    <tr>\n",
       "      <th>29</th>\n",
       "      <td>tot_prodQ_os_visits</td>\n",
       "      <td>4.562532e-03</td>\n",
       "      <td>-0.0</td>\n",
       "    </tr>\n",
       "    <tr>\n",
       "      <th>...</th>\n",
       "      <td>...</td>\n",
       "      <td>...</td>\n",
       "      <td>...</td>\n",
       "    </tr>\n",
       "    <tr>\n",
       "      <th>352</th>\n",
       "      <td>ftr_growth_prodJ_13_14</td>\n",
       "      <td>3.281123e-05</td>\n",
       "      <td>0.0</td>\n",
       "    </tr>\n",
       "    <tr>\n",
       "      <th>353</th>\n",
       "      <td>ftr_growth_prodI_13_14</td>\n",
       "      <td>-3.055313e-06</td>\n",
       "      <td>0.0</td>\n",
       "    </tr>\n",
       "    <tr>\n",
       "      <th>354</th>\n",
       "      <td>ftr_growth_prodL_13_14</td>\n",
       "      <td>-8.003678e-06</td>\n",
       "      <td>0.0</td>\n",
       "    </tr>\n",
       "    <tr>\n",
       "      <th>355</th>\n",
       "      <td>ftr_growth_prodT_13_14</td>\n",
       "      <td>1.423639e-06</td>\n",
       "      <td>0.0</td>\n",
       "    </tr>\n",
       "    <tr>\n",
       "      <th>356</th>\n",
       "      <td>ftr_growth_prodT_license_13_14</td>\n",
       "      <td>1.639060e-19</td>\n",
       "      <td>0.0</td>\n",
       "    </tr>\n",
       "    <tr>\n",
       "      <th>357</th>\n",
       "      <td>ftr_growth_prodN_license_13_14</td>\n",
       "      <td>6.970605e-21</td>\n",
       "      <td>0.0</td>\n",
       "    </tr>\n",
       "    <tr>\n",
       "      <th>358</th>\n",
       "      <td>ftr_growth_prodA_14_15</td>\n",
       "      <td>-3.157685e-06</td>\n",
       "      <td>0.0</td>\n",
       "    </tr>\n",
       "    <tr>\n",
       "      <th>359</th>\n",
       "      <td>ftr_growth_prodB_14_15</td>\n",
       "      <td>-3.769164e-04</td>\n",
       "      <td>0.0</td>\n",
       "    </tr>\n",
       "    <tr>\n",
       "      <th>360</th>\n",
       "      <td>ftr_growth_prodD_14_15</td>\n",
       "      <td>4.089595e-05</td>\n",
       "      <td>-0.0</td>\n",
       "    </tr>\n",
       "    <tr>\n",
       "      <th>361</th>\n",
       "      <td>ftr_growth_prodF_14_15</td>\n",
       "      <td>4.562180e-05</td>\n",
       "      <td>0.0</td>\n",
       "    </tr>\n",
       "    <tr>\n",
       "      <th>362</th>\n",
       "      <td>ftr_growth_prodG_14_15</td>\n",
       "      <td>-1.223024e-04</td>\n",
       "      <td>0.0</td>\n",
       "    </tr>\n",
       "    <tr>\n",
       "      <th>363</th>\n",
       "      <td>ftr_growth_prodH_14_15</td>\n",
       "      <td>0.000000e+00</td>\n",
       "      <td>0.0</td>\n",
       "    </tr>\n",
       "    <tr>\n",
       "      <th>364</th>\n",
       "      <td>ftr_growth_prodJ_14_15</td>\n",
       "      <td>5.012376e-05</td>\n",
       "      <td>-0.0</td>\n",
       "    </tr>\n",
       "    <tr>\n",
       "      <th>365</th>\n",
       "      <td>ftr_growth_prodI_14_15</td>\n",
       "      <td>-1.651917e-03</td>\n",
       "      <td>0.0</td>\n",
       "    </tr>\n",
       "    <tr>\n",
       "      <th>366</th>\n",
       "      <td>ftr_growth_prodL_14_15</td>\n",
       "      <td>-1.266940e-17</td>\n",
       "      <td>0.0</td>\n",
       "    </tr>\n",
       "    <tr>\n",
       "      <th>367</th>\n",
       "      <td>ftr_growth_prodT_14_15</td>\n",
       "      <td>-2.072378e-16</td>\n",
       "      <td>0.0</td>\n",
       "    </tr>\n",
       "    <tr>\n",
       "      <th>368</th>\n",
       "      <td>ftr_growth_prodT_license_14_15</td>\n",
       "      <td>-1.263655e-16</td>\n",
       "      <td>0.0</td>\n",
       "    </tr>\n",
       "    <tr>\n",
       "      <th>369</th>\n",
       "      <td>ftr_growth_prodN_license_14_15</td>\n",
       "      <td>9.634525e-19</td>\n",
       "      <td>0.0</td>\n",
       "    </tr>\n",
       "    <tr>\n",
       "      <th>370</th>\n",
       "      <td>ftr_growth_prodA_5_x_12_13</td>\n",
       "      <td>3.068875e-05</td>\n",
       "      <td>0.0</td>\n",
       "    </tr>\n",
       "    <tr>\n",
       "      <th>371</th>\n",
       "      <td>ftr_growth_prodA_std_12_13</td>\n",
       "      <td>-3.670518e-05</td>\n",
       "      <td>-0.0</td>\n",
       "    </tr>\n",
       "    <tr>\n",
       "      <th>372</th>\n",
       "      <td>ftr_growth_prodA_ent_12_13</td>\n",
       "      <td>1.069247e-05</td>\n",
       "      <td>-0.0</td>\n",
       "    </tr>\n",
       "    <tr>\n",
       "      <th>373</th>\n",
       "      <td>ftr_growth_prodA_ent_plus_12_13</td>\n",
       "      <td>-3.591428e-05</td>\n",
       "      <td>-0.0</td>\n",
       "    </tr>\n",
       "    <tr>\n",
       "      <th>374</th>\n",
       "      <td>ftr_growth_prodA_5_x_13_14</td>\n",
       "      <td>-9.929292e-07</td>\n",
       "      <td>0.0</td>\n",
       "    </tr>\n",
       "    <tr>\n",
       "      <th>375</th>\n",
       "      <td>ftr_growth_prodA_std_13_14</td>\n",
       "      <td>-3.006196e-05</td>\n",
       "      <td>0.0</td>\n",
       "    </tr>\n",
       "    <tr>\n",
       "      <th>376</th>\n",
       "      <td>ftr_growth_prodA_ent_13_14</td>\n",
       "      <td>8.634554e-05</td>\n",
       "      <td>0.0</td>\n",
       "    </tr>\n",
       "    <tr>\n",
       "      <th>377</th>\n",
       "      <td>ftr_growth_prodA_ent_plus_13_14</td>\n",
       "      <td>3.127333e-06</td>\n",
       "      <td>0.0</td>\n",
       "    </tr>\n",
       "    <tr>\n",
       "      <th>378</th>\n",
       "      <td>ftr_growth_prodA_5_x_14_15</td>\n",
       "      <td>-1.184026e-05</td>\n",
       "      <td>0.0</td>\n",
       "    </tr>\n",
       "    <tr>\n",
       "      <th>379</th>\n",
       "      <td>ftr_growth_prodA_std_14_15</td>\n",
       "      <td>6.836017e-05</td>\n",
       "      <td>0.0</td>\n",
       "    </tr>\n",
       "    <tr>\n",
       "      <th>380</th>\n",
       "      <td>ftr_growth_prodA_ent_14_15</td>\n",
       "      <td>8.173588e-06</td>\n",
       "      <td>-0.0</td>\n",
       "    </tr>\n",
       "    <tr>\n",
       "      <th>381</th>\n",
       "      <td>ftr_growth_prodA_ent_plus_14_15</td>\n",
       "      <td>1.691194e-04</td>\n",
       "      <td>0.0</td>\n",
       "    </tr>\n",
       "  </tbody>\n",
       "</table>\n",
       "<p>382 rows × 3 columns</p>\n",
       "</div>"
      ],
      "text/plain": [
       "                        Feature Name  Alpha = 0.000000  Alpha = 1.000000\n",
       "0                     tot_page_views      6.719517e-05               0.0\n",
       "1                tot_page_views_l30d     -1.251901e-04               0.0\n",
       "2                tot_page_views_l90d      1.193672e-04               0.0\n",
       "3                         tot_visits     -5.157667e-03               0.0\n",
       "4                    tot_visits_l30d      2.302273e-03               0.0\n",
       "5                    tot_visits_l90d     -1.370754e-03               0.0\n",
       "6             internal_search_events     -1.959987e-03              -0.0\n",
       "7                     buy_now_events      1.118084e-02               0.0\n",
       "8              download_trial_events      1.699674e-02               0.0\n",
       "9              support_search_events     -1.791405e-02              -0.0\n",
       "10                get_pricing_events      2.752966e-02              -0.0\n",
       "11               product_view_events     -2.249711e-03               0.0\n",
       "12              campaign_view_events      8.780465e-04               0.0\n",
       "13                   purchase_events     -1.368878e-03               0.0\n",
       "14                paid_search_events     -3.113001e-02              -0.0\n",
       "15             natural_search_events     -1.264749e-04              -0.0\n",
       "16               tot_campaign_visits     -2.061699e-03              -0.0\n",
       "17            tot_paid_search_visits      3.685215e-02               0.0\n",
       "18         tot_google_browser_visits      6.060979e-04               0.0\n",
       "19        tot_mozilla_browser_visits      3.952462e-04               0.0\n",
       "20      tot_microsoft_browser_visits      5.112222e-04               0.0\n",
       "21          tot_apple_browser_visits     -2.211631e-04              -0.0\n",
       "22          tot_opera_browser_visits     -2.600677e-04               0.0\n",
       "23          tot_other_browser_visits      9.778142e-04               0.0\n",
       "24           tot_internal_ref_visits     -2.266616e-04               0.0\n",
       "25      tot_search_engine_ref_visits      5.553197e-04               0.0\n",
       "26              tot_email_ref_visits      9.828858e-03               0.0\n",
       "27       tot_social_media_ref_visits      1.114285e-03              -0.0\n",
       "28              tot_other_ref_visits     -1.234813e-03               0.0\n",
       "29               tot_prodQ_os_visits      4.562532e-03              -0.0\n",
       "..                               ...               ...               ...\n",
       "352           ftr_growth_prodJ_13_14      3.281123e-05               0.0\n",
       "353           ftr_growth_prodI_13_14     -3.055313e-06               0.0\n",
       "354           ftr_growth_prodL_13_14     -8.003678e-06               0.0\n",
       "355           ftr_growth_prodT_13_14      1.423639e-06               0.0\n",
       "356   ftr_growth_prodT_license_13_14      1.639060e-19               0.0\n",
       "357   ftr_growth_prodN_license_13_14      6.970605e-21               0.0\n",
       "358           ftr_growth_prodA_14_15     -3.157685e-06               0.0\n",
       "359           ftr_growth_prodB_14_15     -3.769164e-04               0.0\n",
       "360           ftr_growth_prodD_14_15      4.089595e-05              -0.0\n",
       "361           ftr_growth_prodF_14_15      4.562180e-05               0.0\n",
       "362           ftr_growth_prodG_14_15     -1.223024e-04               0.0\n",
       "363           ftr_growth_prodH_14_15      0.000000e+00               0.0\n",
       "364           ftr_growth_prodJ_14_15      5.012376e-05              -0.0\n",
       "365           ftr_growth_prodI_14_15     -1.651917e-03               0.0\n",
       "366           ftr_growth_prodL_14_15     -1.266940e-17               0.0\n",
       "367           ftr_growth_prodT_14_15     -2.072378e-16               0.0\n",
       "368   ftr_growth_prodT_license_14_15     -1.263655e-16               0.0\n",
       "369   ftr_growth_prodN_license_14_15      9.634525e-19               0.0\n",
       "370       ftr_growth_prodA_5_x_12_13      3.068875e-05               0.0\n",
       "371       ftr_growth_prodA_std_12_13     -3.670518e-05              -0.0\n",
       "372       ftr_growth_prodA_ent_12_13      1.069247e-05              -0.0\n",
       "373  ftr_growth_prodA_ent_plus_12_13     -3.591428e-05              -0.0\n",
       "374       ftr_growth_prodA_5_x_13_14     -9.929292e-07               0.0\n",
       "375       ftr_growth_prodA_std_13_14     -3.006196e-05               0.0\n",
       "376       ftr_growth_prodA_ent_13_14      8.634554e-05               0.0\n",
       "377  ftr_growth_prodA_ent_plus_13_14      3.127333e-06               0.0\n",
       "378       ftr_growth_prodA_5_x_14_15     -1.184026e-05               0.0\n",
       "379       ftr_growth_prodA_std_14_15      6.836017e-05               0.0\n",
       "380       ftr_growth_prodA_ent_14_15      8.173588e-06              -0.0\n",
       "381  ftr_growth_prodA_ent_plus_14_15      1.691194e-04               0.0\n",
       "\n",
       "[382 rows x 3 columns]"
      ]
     },
     "execution_count": 102,
     "metadata": {},
     "output_type": "execute_result"
    }
   ],
   "source": [
    "# Run the function called, Lasso\n",
    "lasso([0,1])"
   ]
  },
  {
   "cell_type": "code",
   "execution_count": null,
   "metadata": {},
   "outputs": [],
   "source": []
  },
  {
   "cell_type": "code",
   "execution_count": null,
   "metadata": {},
   "outputs": [],
   "source": []
  },
  {
   "cell_type": "markdown",
   "metadata": {},
   "source": [
    "### Boosting Techniques"
   ]
  },
  {
   "cell_type": "markdown",
   "metadata": {},
   "source": [
    "#### ADA Boosting"
   ]
  },
  {
   "cell_type": "code",
   "execution_count": 142,
   "metadata": {},
   "outputs": [],
   "source": [
    "# Load libraries\n",
    "from sklearn.ensemble import AdaBoostClassifier\n",
    "from sklearn.tree import DecisionTreeClassifier"
   ]
  },
  {
   "cell_type": "code",
   "execution_count": 143,
   "metadata": {},
   "outputs": [],
   "source": [
    "param_grid = {\"base_estimator__criterion\" : [\"gini\", \"entropy\"],\n",
    "              \"base_estimator__splitter\" :   [\"best\", \"random\"],\n",
    "              \"n_estimators\": [100, 200]\n",
    "             }"
   ]
  },
  {
   "cell_type": "code",
   "execution_count": 145,
   "metadata": {},
   "outputs": [],
   "source": [
    "DTC = DecisionTreeClassifier(random_state = 11, max_features = \"auto\", class_weight = \"balanced\",max_depth = None)\n",
    "\n",
    "ada_clf= AdaBoostClassifier(base_estimator = DTC)\n",
    "\n",
    "\n",
    "# run grid search\n",
    "grid_search_ada = GridSearchCV(ada_clf, param_grid=param_grid, scoring = 'roc_auc')\n",
    "best_model = grid_search_ada.fit(X_res,y_res)"
   ]
  },
  {
   "cell_type": "code",
   "execution_count": 146,
   "metadata": {},
   "outputs": [
    {
     "name": "stdout",
     "output_type": "stream",
     "text": [
      "Best Param: {'algorithm': 'SAMME.R', 'base_estimator__class_weight': 'balanced', 'base_estimator__criterion': 'entropy', 'base_estimator__max_depth': None, 'base_estimator__max_features': 'auto', 'base_estimator__max_leaf_nodes': None, 'base_estimator__min_impurity_decrease': 0.0, 'base_estimator__min_impurity_split': None, 'base_estimator__min_samples_leaf': 1, 'base_estimator__min_samples_split': 2, 'base_estimator__min_weight_fraction_leaf': 0.0, 'base_estimator__presort': False, 'base_estimator__random_state': 11, 'base_estimator__splitter': 'random', 'base_estimator': DecisionTreeClassifier(class_weight='balanced', criterion='entropy',\n",
      "            max_depth=None, max_features='auto', max_leaf_nodes=None,\n",
      "            min_impurity_decrease=0.0, min_impurity_split=None,\n",
      "            min_samples_leaf=1, min_samples_split=2,\n",
      "            min_weight_fraction_leaf=0.0, presort=False, random_state=11,\n",
      "            splitter='random'), 'learning_rate': 1.0, 'n_estimators': 100, 'random_state': None}\n"
     ]
    }
   ],
   "source": [
    "# View best hyperparameters\n",
    "print('Best Param:', best_model.best_estimator_.get_params())\n",
    "\n",
    "# print('Best C:', best_model.best_estimator_.get_params()['C'])"
   ]
  },
  {
   "cell_type": "code",
   "execution_count": 147,
   "metadata": {},
   "outputs": [],
   "source": [
    "ada_clf = AdaBoostClassifier(DecisionTreeClassifier(criterion='entropy',class_weight='balanced',random_state=11),n_estimators=100,algorithm=\"SAMME.R\",learning_rate=1,random_state=11)"
   ]
  },
  {
   "cell_type": "code",
   "execution_count": 148,
   "metadata": {},
   "outputs": [
    {
     "data": {
      "text/plain": [
       "AdaBoostClassifier(algorithm='SAMME.R',\n",
       "          base_estimator=DecisionTreeClassifier(class_weight='balanced', criterion='entropy',\n",
       "            max_depth=None, max_features=None, max_leaf_nodes=None,\n",
       "            min_impurity_decrease=0.0, min_impurity_split=None,\n",
       "            min_samples_leaf=1, min_samples_split=2,\n",
       "            min_weight_fraction_leaf=0.0, presort=False, random_state=11,\n",
       "            splitter='best'),\n",
       "          learning_rate=1, n_estimators=100, random_state=11)"
      ]
     },
     "execution_count": 148,
     "metadata": {},
     "output_type": "execute_result"
    }
   ],
   "source": [
    "ada_clf.fit(X_res,y_res)"
   ]
  },
  {
   "cell_type": "code",
   "execution_count": 149,
   "metadata": {},
   "outputs": [],
   "source": [
    "y_pred= ada_clf.predict(X_test)\n",
    "y_pred_val = ada_clf.predict(X_val)"
   ]
  },
  {
   "cell_type": "code",
   "execution_count": 150,
   "metadata": {},
   "outputs": [
    {
     "name": "stderr",
     "output_type": "stream",
     "text": [
      "c:\\users\\harish\\anaconda3\\lib\\site-packages\\sklearn\\tree\\tree.py:508: RuntimeWarning: invalid value encountered in true_divide\n",
      "  return self.tree_.compute_feature_importances()\n"
     ]
    },
    {
     "data": {
      "text/plain": [
       "array([  2.77396610e-03,   9.50235176e-05,   2.20610349e-03,\n",
       "        -6.52632889e-02,   2.33734949e-02,   2.23210822e-04,\n",
       "         1.74418604e-03,              nan,   1.34714211e-01,\n",
       "        -5.70105422e-03,              nan,   1.15226074e-01,\n",
       "         1.77107369e-04,   3.00923583e-02,   3.87157509e-03,\n",
       "         1.01243297e-02,   1.22705688e-02,   1.05894819e-05,\n",
       "         5.33856023e-04,   1.57855589e-04,   3.85677007e-04,\n",
       "         7.00082953e-04,              nan,   4.74454443e-05,\n",
       "         1.74109659e-04,   2.21737069e-04,  -9.84133018e-03,\n",
       "                    nan,   9.51149573e-03,   6.63698845e-04,\n",
       "         4.95004371e-04,   2.12519258e-02,   3.01374265e-04,\n",
       "         1.47530828e-04,   3.00070418e-04,   4.50253343e-05,\n",
       "         1.03888950e-02,   1.87191746e-04,   4.39726217e-03,\n",
       "        -5.41484428e-02,   5.07705774e-05,   9.93304942e-05,\n",
       "         2.73376602e-04,              nan,   7.27928741e-04,\n",
       "         9.32771472e-05,   1.87868058e-04,   4.27749663e-05,\n",
       "         2.48269070e-04,   2.28297870e-04,   3.53119912e-05])"
      ]
     },
     "execution_count": 150,
     "metadata": {},
     "output_type": "execute_result"
    }
   ],
   "source": [
    "ada_clf.feature_importances_"
   ]
  },
  {
   "cell_type": "code",
   "execution_count": 151,
   "metadata": {},
   "outputs": [
    {
     "name": "stdout",
     "output_type": "stream",
     "text": [
      "             precision    recall  f1-score   support\n",
      "\n",
      "          0       0.97      0.98      0.97     28949\n",
      "          1       0.17      0.14      0.15      1051\n",
      "\n",
      "avg / total       0.94      0.95      0.94     30000\n",
      "\n"
     ]
    }
   ],
   "source": [
    "print(classification_report(y_test, y_pred))"
   ]
  },
  {
   "cell_type": "code",
   "execution_count": 152,
   "metadata": {},
   "outputs": [
    {
     "name": "stdout",
     "output_type": "stream",
     "text": [
      "             precision    recall  f1-score   support\n",
      "\n",
      "          0       0.97      0.82      0.89     48214\n",
      "          1       0.06      0.32      0.10      1784\n",
      "\n",
      "avg / total       0.94      0.80      0.86     49998\n",
      "\n"
     ]
    }
   ],
   "source": [
    "print(classification_report(y_val, y_pred_val))"
   ]
  },
  {
   "cell_type": "code",
   "execution_count": 153,
   "metadata": {},
   "outputs": [
    {
     "data": {
      "image/png": "[encoded data removed]",
      "text/plain": [
       "<matplotlib.figure.Figure at 0x17510c40b70>"
      ]
     },
     "metadata": {},
     "output_type": "display_data"
    }
   ],
   "source": [
    "logit_roc_auc = roc_auc_score(y_val, ada_clf.predict(X_val))\n",
    "fpr, tpr, thresholds = roc_curve(y_val, ada_clf.predict_proba(X_val)[:,1])\n",
    "plt.figure()\n",
    "plt.plot(fpr, tpr, label='Logistic Regression (area = %0.2f)' % logit_roc_auc)\n",
    "plt.plot([0, 1], [0, 1],'r--')\n",
    "plt.xlim([0.0, 1.0])\n",
    "plt.ylim([0.0, 1.05])\n",
    "plt.xlabel('False Positive Rate')\n",
    "plt.ylabel('True Positive Rate')\n",
    "plt.title('Receiver operating characteristic')\n",
    "plt.legend(loc=\"lower right\")\n",
    "plt.savefig('Log_ROC')\n",
    "plt.show()"
   ]
  },
  {
   "cell_type": "markdown",
   "metadata": {},
   "source": [
    "#### Gradient Boosting"
   ]
  },
  {
   "cell_type": "code",
   "execution_count": 258,
   "metadata": {},
   "outputs": [],
   "source": [
    "# Load libraries\n",
    "from sklearn.ensemble import GradientBoostingClassifier\n",
    "from sklearn import cross_validation, metrics   #Additional scklearn functions\n",
    "from sklearn.grid_search import GridSearchCV   #Perforing grid search\n"
   ]
  },
  {
   "cell_type": "code",
   "execution_count": 314,
   "metadata": {},
   "outputs": [],
   "source": [
    "def modelfit(GDB_alg,X_res,y_res,predictors, performCV=True, printFeatureImportance=True, cv_folds=5):\n",
    "    #Fit the algorithm on the data\n",
    "    GDB_alg.fit(X_res,y_res)\n",
    "        \n",
    "    #Predict training set:\n",
    "    y_pred = GDB_alg.predict(X_res)\n",
    "    y_predprob = GDB_alg.predict_proba(X_res)[:,1]\n",
    "    \n",
    "    #Perform cross-validation:\n",
    "    if performCV:\n",
    "        cv_score = cross_validation.cross_val_score(GDB_alg, X_res, y_res, cv=cv_folds, scoring='roc_auc')\n",
    "    \n",
    "    #Print model report:\n",
    "    print (\"\\nModel Report\")\n",
    "#     print (\"Accuracy : %.4g\" % metrics.accuracy_score(y_res.values, y_pred))\n",
    "    print (\"AUC Score (Train): %f\" % metrics.roc_auc_score(y_res, y_predprob))\n",
    "    \n",
    "    if performCV:\n",
    "        print( \"CV Score : Mean - %.7g | Std - %.7g | Min - %.7g | Max - %.7g\" % (np.mean(cv_score),np.std(cv_score),np.min(cv_score),np.max(cv_score)))\n",
    "        \n",
    "    #Print Feature Importance:\n",
    "    if printFeatureImportance:\n",
    "        feat_imp = pd.Series(GDB_alg.feature_importances_,predictors).sort_values(ascending=False)\n",
    "        feat_imp.plot(kind='bar', title='Feature Importances',ax = plt.gca())\n",
    "        plt.ylabel('Feature Importance Score')"
   ]
  },
  {
   "cell_type": "code",
   "execution_count": 315,
   "metadata": {},
   "outputs": [
    {
     "name": "stdout",
     "output_type": "stream",
     "text": [
      "\n",
      "Model Report\n",
      "AUC Score (Train): 0.937542\n",
      "CV Score : Mean - 0.9032395 | Std - 0.005625369 | Min - 0.8922741 | Max - 0.9076801\n"
     ]
    },
    {
     "data": {
      "image/png": "[encoded data removed]",
      "text/plain": [
       "<matplotlib.figure.Figure at 0x1ca1491aef0>"
      ]
     },
     "metadata": {},
     "output_type": "display_data"
    }
   ],
   "source": [
    "gbm0 = GradientBoostingClassifier(random_state=10)\n",
    "modelfit(gbm0, X_res,y_res,gbm_list)"
   ]
  },
  {
   "cell_type": "code",
   "execution_count": 270,
   "metadata": {},
   "outputs": [],
   "source": [
    "# imp =pd.Series(gbm0.feature_importances_,feature_list)\n",
    "imp=pd.DataFrame({'importance':gbm0.feature_importances_, 'features':feature_list})"
   ]
  },
  {
   "cell_type": "code",
   "execution_count": 271,
   "metadata": {},
   "outputs": [
    {
     "data": {
      "text/html": [
       "<div>\n",
       "<style>\n",
       "    .dataframe thead tr:only-child th {\n",
       "        text-align: right;\n",
       "    }\n",
       "\n",
       "    .dataframe thead th {\n",
       "        text-align: left;\n",
       "    }\n",
       "\n",
       "    .dataframe tbody tr th {\n",
       "        vertical-align: top;\n",
       "    }\n",
       "</style>\n",
       "<table border=\"1\" class=\"dataframe\">\n",
       "  <thead>\n",
       "    <tr style=\"text-align: right;\">\n",
       "      <th></th>\n",
       "      <th>features</th>\n",
       "      <th>importance</th>\n",
       "    </tr>\n",
       "  </thead>\n",
       "  <tbody>\n",
       "    <tr>\n",
       "      <th>0</th>\n",
       "      <td>tot_page_views</td>\n",
       "      <td>0.001557</td>\n",
       "    </tr>\n",
       "    <tr>\n",
       "      <th>1</th>\n",
       "      <td>tot_page_views_l30d</td>\n",
       "      <td>0.005091</td>\n",
       "    </tr>\n",
       "    <tr>\n",
       "      <th>2</th>\n",
       "      <td>tot_page_views_l90d</td>\n",
       "      <td>0.005515</td>\n",
       "    </tr>\n",
       "    <tr>\n",
       "      <th>3</th>\n",
       "      <td>tot_visits</td>\n",
       "      <td>0.001308</td>\n",
       "    </tr>\n",
       "    <tr>\n",
       "      <th>4</th>\n",
       "      <td>tot_visits_l30d</td>\n",
       "      <td>0.001547</td>\n",
       "    </tr>\n",
       "  </tbody>\n",
       "</table>\n",
       "</div>"
      ],
      "text/plain": [
       "              features  importance\n",
       "0       tot_page_views    0.001557\n",
       "1  tot_page_views_l30d    0.005091\n",
       "2  tot_page_views_l90d    0.005515\n",
       "3           tot_visits    0.001308\n",
       "4      tot_visits_l30d    0.001547"
      ]
     },
     "execution_count": 271,
     "metadata": {},
     "output_type": "execute_result"
    }
   ],
   "source": [
    "imp.head()"
   ]
  },
  {
   "cell_type": "code",
   "execution_count": 278,
   "metadata": {},
   "outputs": [],
   "source": [
    "\n",
    "select_feat = imp[imp['importance']>=0.009]\n"
   ]
  },
  {
   "cell_type": "code",
   "execution_count": 281,
   "metadata": {},
   "outputs": [],
   "source": [
    "gbm_list = imp['features'].tolist()"
   ]
  },
  {
   "cell_type": "code",
   "execution_count": 282,
   "metadata": {},
   "outputs": [
    {
     "data": {
      "text/plain": [
       "['total_prodV_bookings_amount',\n",
       " 'days_since_last_prodG_purchase_date',\n",
       " 'total_prodG_booking_amount',\n",
       " 'prodG_booking_pct',\n",
       " 'tot_windows_visits',\n",
       " 'prodG_2015_bookings_amount',\n",
       " 'prodG_2014_bookings_amount',\n",
       " 'ftr_growth_prodG_12_13',\n",
       " 'prodG_2012_bookings_amount',\n",
       " 'ftr_growth_prodG_14_15',\n",
       " 'total_amount',\n",
       " 'tot_store_upgrade_to_workstation_pro_page_views',\n",
       " 'purchase_events',\n",
       " 'ftr_growth_prodG_13_14',\n",
       " 'tot_last_touch_src_codes_views',\n",
       " 'dw_mkt_duns_num_key',\n",
       " 'prodA_std_booking_pct',\n",
       " 'days_since_first_prodG_purchase_date',\n",
       " 'tot_last_touch_direct_views',\n",
       " 'tot_apple_browser_visits',\n",
       " 'ftr_dummy_db_industryHealthcare__Medical',\n",
       " 'days_bw_prodG_launch_and_purch',\n",
       " 'tot_internal_ref_visits',\n",
       " 'flag_prodF_customer',\n",
       " 'tot_store_support_pis_workstation_pro_page_views',\n",
       " 'tot_first_touch_natural_search_views',\n",
       " 'num_order_lines',\n",
       " 'ftr_growth_prodA_12_13',\n",
       " 'num_orders']"
      ]
     },
     "execution_count": 282,
     "metadata": {},
     "output_type": "execute_result"
    }
   ],
   "source": [
    "gbm_list"
   ]
  },
  {
   "cell_type": "code",
   "execution_count": null,
   "metadata": {},
   "outputs": [],
   "source": []
  },
  {
   "cell_type": "code",
   "execution_count": 316,
   "metadata": {},
   "outputs": [
    {
     "name": "stdout",
     "output_type": "stream",
     "text": [
      "Test accuracy: 0.7897\n",
      "Validation accuracy: 0.216948677947\n",
      "Report for validation\n",
      "             precision    recall  f1-score   support\n",
      "\n",
      "          0       0.98      0.19      0.32     48214\n",
      "          1       0.04      0.88      0.07      1784\n",
      "\n",
      "avg / total       0.94      0.22      0.31     49998\n",
      "\n",
      "Report for test\n",
      "             precision    recall  f1-score   support\n",
      "\n",
      "        0.0       1.00      0.79      0.88     28950\n",
      "        1.0       0.13      0.89      0.23      1050\n",
      "\n",
      "avg / total       0.96      0.79      0.86     30000\n",
      "\n"
     ]
    }
   ],
   "source": [
    "y_pred = gbm0.predict(X_test)\n",
    "y_pred_val = gbm0.predict(X_val)\n",
    "\n",
    "print('Test accuracy:', gbm0.score(X_test, y_test))\n",
    "print('Validation accuracy:', gbm0.score(X_val, y_val))\n",
    "print(\"Report for validation\")\n",
    "print(classification_report(y_val, y_pred_val))\n",
    "print(\"Report for test\")\n",
    "print(classification_report(y_test, y_pred))\n",
    "\n"
   ]
  },
  {
   "cell_type": "code",
   "execution_count": 317,
   "metadata": {},
   "outputs": [
    {
     "data": {
      "image/png": "[encoded data removed]",
      "text/plain": [
       "<matplotlib.figure.Figure at 0x1ca14393550>"
      ]
     },
     "metadata": {},
     "output_type": "display_data"
    }
   ],
   "source": [
    "logit_roc_auc = roc_auc_score(y_val, gbm0.predict(X_val))\n",
    "fpr, tpr, thresholds = roc_curve(y_val, gbm0.predict_proba(X_val)[:,1])\n",
    "plt.figure()\n",
    "plt.plot(fpr, tpr, label='Logistic Regression (area = %0.2f)' % logit_roc_auc)\n",
    "plt.plot([0, 1], [0, 1],'r--')\n",
    "plt.xlim([0.0, 1.0])\n",
    "plt.ylim([0.0, 1.05])\n",
    "plt.xlabel('False Positive Rate')\n",
    "plt.ylabel('True Positive Rate')\n",
    "plt.title('Receiver operating characteristic')\n",
    "plt.legend(loc=\"lower right\")\n",
    "plt.savefig('Log_ROC')\n",
    "plt.show()"
   ]
  },
  {
   "cell_type": "markdown",
   "metadata": {},
   "source": [
    "## LIFT Chart"
   ]
  },
  {
   "cell_type": "code",
   "execution_count": 475,
   "metadata": {},
   "outputs": [],
   "source": [
    "import matplotlib.pyplot as plt\n",
    "import scikitplot as skplt\n",
    "X_val =validation_df[gbm_list]\n",
    "X = training_df[gbm_list]\n",
    "X_train, X_test, y_train, y_test = train_test_split(X, y, test_size=0.3, random_state=42)\n",
    "\n",
    "scaler = preprocessing.MinMaxScaler()\n",
    "X_train = scaler.fit_transform( X_train )\n",
    "X_test= scaler.transform( X_test)\n",
    "X_val= scaler.transform( X_val)\n",
    "y_probas = gbm0.predict_proba(X_test)"
   ]
  },
  {
   "cell_type": "code",
   "execution_count": 476,
   "metadata": {},
   "outputs": [],
   "source": [
    "probas_y=y_probas[:,1]"
   ]
  },
  {
   "cell_type": "code",
   "execution_count": 506,
   "metadata": {},
   "outputs": [],
   "source": [
    "def liftTable(actual,predicted,value):\n",
    "    df = pd.DataFrame({'actual': actual, 'pred_prob': predicted})\n",
    "    df.sort_values('pred_prob',ascending=False)\n",
    "    \n",
    "    n_positives = df['actual'].sum()\n",
    "    n_obs = df.shape[0]\n",
    "    # baseline with a random classifier\n",
    "    baseline = n_positives / float(n_obs)\n",
    "\n",
    "    df['bin'] = pd.qcut(df['pred_prob'], q=value,labels=None, retbins=False, precision=3)#,duplicates='drop')\n",
    "    grouped_df = df.groupby('bin')\n",
    "    lift_positive = grouped_df['actual'].sum() / grouped_df['actual'].count()\n",
    "    lift_index = (lift_positive/baseline)*100\n",
    "    \n",
    "    lift_df = pd.DataFrame({'lift_positive':lift_positive,\n",
    "                            'lift_index':lift_index,\n",
    "                            'baseline':baseline})\n",
    "    lift_df.reset_index(drop = True, inplace = True)\n",
    "    lift_df = lift_df.sort_values('lift_positive',ascending=False)\n",
    "    return lift_df\n"
   ]
  },
  {
   "cell_type": "code",
   "execution_count": 495,
   "metadata": {},
   "outputs": [],
   "source": [
    "def plotLiftChart(actual, predicted):\n",
    "    df_dict = {'actual': list (actual), 'pred': list(predicted)}\n",
    "    df = pd.DataFrame(df_dict)\n",
    "    df = df.sort_values('pred',ascending=False)\n",
    "    pred_ranks = pd.qcut(df['pred'].rank(method='first'), 200, labels=False)\n",
    "    actual_ranks = pd.qcut(df['actual'].rank(method='first'), 200, labels=False)\n",
    "    pred_percentiles = df.groupby(pred_ranks).mean()\n",
    "    pred_percentiles = pred_percentiles.sort_values('pred',ascending=False)\n",
    "    actual_percentiles = df.groupby(actual_ranks).mean()\n",
    "    plt.title('Lift Chart')\n",
    "    plt.plot(np.arange(.01, 2.01, .01), np.array(pred_percentiles['pred']),\n",
    "             color='darkorange', lw=2, label='Prediction')\n",
    "    plt.plot(np.arange(.01, 2.01, .01), np.array(pred_percentiles['actual']),\n",
    "             color='navy', lw=2, linestyle='--', label='Actual')\n",
    "    plt.ylabel('Target Percentile')\n",
    "    plt.xlabel('Population Percentile')\n",
    "    plt.xlim([0.0, 1.0])\n",
    "    plt.ylim([-0.05, 1.05])\n",
    "    plt.legend(loc=\"best\")"
   ]
  },
  {
   "cell_type": "code",
   "execution_count": 490,
   "metadata": {},
   "outputs": [
    {
     "data": {
      "text/html": [
       "<div>\n",
       "<style>\n",
       "    .dataframe thead tr:only-child th {\n",
       "        text-align: right;\n",
       "    }\n",
       "\n",
       "    .dataframe thead th {\n",
       "        text-align: left;\n",
       "    }\n",
       "\n",
       "    .dataframe tbody tr th {\n",
       "        vertical-align: top;\n",
       "    }\n",
       "</style>\n",
       "<table border=\"1\" class=\"dataframe\">\n",
       "  <thead>\n",
       "    <tr style=\"text-align: right;\">\n",
       "      <th></th>\n",
       "      <th>baseline</th>\n",
       "      <th>lift_index</th>\n",
       "      <th>lift_positive</th>\n",
       "    </tr>\n",
       "  </thead>\n",
       "  <tbody>\n",
       "    <tr>\n",
       "      <th>3</th>\n",
       "      <td>0.035033</td>\n",
       "      <td>328.449096</td>\n",
       "      <td>0.115067</td>\n",
       "    </tr>\n",
       "    <tr>\n",
       "      <th>2</th>\n",
       "      <td>0.035033</td>\n",
       "      <td>56.707897</td>\n",
       "      <td>0.019867</td>\n",
       "    </tr>\n",
       "    <tr>\n",
       "      <th>1</th>\n",
       "      <td>0.035033</td>\n",
       "      <td>11.426839</td>\n",
       "      <td>0.004003</td>\n",
       "    </tr>\n",
       "    <tr>\n",
       "      <th>0</th>\n",
       "      <td>0.035033</td>\n",
       "      <td>3.422571</td>\n",
       "      <td>0.001199</td>\n",
       "    </tr>\n",
       "  </tbody>\n",
       "</table>\n",
       "</div>"
      ],
      "text/plain": [
       "   baseline  lift_index  lift_positive\n",
       "3  0.035033  328.449096       0.115067\n",
       "2  0.035033   56.707897       0.019867\n",
       "1  0.035033   11.426839       0.004003\n",
       "0  0.035033    3.422571       0.001199"
      ]
     },
     "execution_count": 490,
     "metadata": {},
     "output_type": "execute_result"
    }
   ],
   "source": [
    "liftTable(y_test,probas_y,4)"
   ]
  },
  {
   "cell_type": "code",
   "execution_count": 496,
   "metadata": {},
   "outputs": [
    {
     "data": {
      "image/png": "[encoded data removed]",
      "text/plain": [
       "<matplotlib.figure.Figure at 0x1ca1c33cf98>"
      ]
     },
     "metadata": {},
     "output_type": "display_data"
    }
   ],
   "source": [
    "plotLiftChart(y_test,probas_y)"
   ]
  },
  {
   "cell_type": "markdown",
   "metadata": {},
   "source": [
    "#### Logistic Regression"
   ]
  },
  {
   "cell_type": "code",
   "execution_count": 507,
   "metadata": {},
   "outputs": [],
   "source": [
    "X_val =validation_df[fpr_list]\n",
    "X = training_df[fpr_list]\n",
    "X_train, X_test, y_train, y_test = train_test_split(X, y, test_size=0.3, random_state=42)\n",
    "\n",
    "scaler = preprocessing.MinMaxScaler()\n",
    "X_train = scaler.fit_transform( X_train )\n",
    "X_test= scaler.transform( X_test)\n",
    "X_val= scaler.transform( X_val)\n"
   ]
  },
  {
   "cell_type": "code",
   "execution_count": 508,
   "metadata": {},
   "outputs": [],
   "source": [
    "y_probas = logreg.predict_proba(X_test)\n",
    "y_probas=y_probas[:,1]"
   ]
  },
  {
   "cell_type": "code",
   "execution_count": 513,
   "metadata": {},
   "outputs": [
    {
     "data": {
      "text/html": [
       "<div>\n",
       "<style>\n",
       "    .dataframe thead tr:only-child th {\n",
       "        text-align: right;\n",
       "    }\n",
       "\n",
       "    .dataframe thead th {\n",
       "        text-align: left;\n",
       "    }\n",
       "\n",
       "    .dataframe tbody tr th {\n",
       "        vertical-align: top;\n",
       "    }\n",
       "</style>\n",
       "<table border=\"1\" class=\"dataframe\">\n",
       "  <thead>\n",
       "    <tr style=\"text-align: right;\">\n",
       "      <th></th>\n",
       "      <th>baseline</th>\n",
       "      <th>lift_index</th>\n",
       "      <th>lift_positive</th>\n",
       "    </tr>\n",
       "  </thead>\n",
       "  <tbody>\n",
       "    <tr>\n",
       "      <th>99</th>\n",
       "      <td>0.035033</td>\n",
       "      <td>742.150333</td>\n",
       "      <td>0.260000</td>\n",
       "    </tr>\n",
       "    <tr>\n",
       "      <th>94</th>\n",
       "      <td>0.035033</td>\n",
       "      <td>570.884872</td>\n",
       "      <td>0.200000</td>\n",
       "    </tr>\n",
       "    <tr>\n",
       "      <th>98</th>\n",
       "      <td>0.035033</td>\n",
       "      <td>475.737393</td>\n",
       "      <td>0.166667</td>\n",
       "    </tr>\n",
       "    <tr>\n",
       "      <th>96</th>\n",
       "      <td>0.035033</td>\n",
       "      <td>475.737393</td>\n",
       "      <td>0.166667</td>\n",
       "    </tr>\n",
       "    <tr>\n",
       "      <th>93</th>\n",
       "      <td>0.035033</td>\n",
       "      <td>475.737393</td>\n",
       "      <td>0.166667</td>\n",
       "    </tr>\n",
       "    <tr>\n",
       "      <th>97</th>\n",
       "      <td>0.035033</td>\n",
       "      <td>456.707897</td>\n",
       "      <td>0.160000</td>\n",
       "    </tr>\n",
       "    <tr>\n",
       "      <th>92</th>\n",
       "      <td>0.035033</td>\n",
       "      <td>428.163654</td>\n",
       "      <td>0.150000</td>\n",
       "    </tr>\n",
       "    <tr>\n",
       "      <th>85</th>\n",
       "      <td>0.035033</td>\n",
       "      <td>428.163654</td>\n",
       "      <td>0.150000</td>\n",
       "    </tr>\n",
       "    <tr>\n",
       "      <th>89</th>\n",
       "      <td>0.035033</td>\n",
       "      <td>418.648906</td>\n",
       "      <td>0.146667</td>\n",
       "    </tr>\n",
       "    <tr>\n",
       "      <th>95</th>\n",
       "      <td>0.035033</td>\n",
       "      <td>409.134158</td>\n",
       "      <td>0.143333</td>\n",
       "    </tr>\n",
       "    <tr>\n",
       "      <th>90</th>\n",
       "      <td>0.035033</td>\n",
       "      <td>409.134158</td>\n",
       "      <td>0.143333</td>\n",
       "    </tr>\n",
       "    <tr>\n",
       "      <th>84</th>\n",
       "      <td>0.035033</td>\n",
       "      <td>390.104662</td>\n",
       "      <td>0.136667</td>\n",
       "    </tr>\n",
       "    <tr>\n",
       "      <th>80</th>\n",
       "      <td>0.035033</td>\n",
       "      <td>333.016175</td>\n",
       "      <td>0.116667</td>\n",
       "    </tr>\n",
       "    <tr>\n",
       "      <th>82</th>\n",
       "      <td>0.035033</td>\n",
       "      <td>324.583372</td>\n",
       "      <td>0.113712</td>\n",
       "    </tr>\n",
       "    <tr>\n",
       "      <th>91</th>\n",
       "      <td>0.035033</td>\n",
       "      <td>323.501427</td>\n",
       "      <td>0.113333</td>\n",
       "    </tr>\n",
       "    <tr>\n",
       "      <th>88</th>\n",
       "      <td>0.035033</td>\n",
       "      <td>313.986679</td>\n",
       "      <td>0.110000</td>\n",
       "    </tr>\n",
       "    <tr>\n",
       "      <th>83</th>\n",
       "      <td>0.035033</td>\n",
       "      <td>304.471931</td>\n",
       "      <td>0.106667</td>\n",
       "    </tr>\n",
       "    <tr>\n",
       "      <th>86</th>\n",
       "      <td>0.035033</td>\n",
       "      <td>294.957184</td>\n",
       "      <td>0.103333</td>\n",
       "    </tr>\n",
       "    <tr>\n",
       "      <th>87</th>\n",
       "      <td>0.035033</td>\n",
       "      <td>247.383444</td>\n",
       "      <td>0.086667</td>\n",
       "    </tr>\n",
       "    <tr>\n",
       "      <th>81</th>\n",
       "      <td>0.035033</td>\n",
       "      <td>218.112160</td>\n",
       "      <td>0.076412</td>\n",
       "    </tr>\n",
       "    <tr>\n",
       "      <th>79</th>\n",
       "      <td>0.035033</td>\n",
       "      <td>209.324453</td>\n",
       "      <td>0.073333</td>\n",
       "    </tr>\n",
       "    <tr>\n",
       "      <th>78</th>\n",
       "      <td>0.035033</td>\n",
       "      <td>199.809705</td>\n",
       "      <td>0.070000</td>\n",
       "    </tr>\n",
       "    <tr>\n",
       "      <th>77</th>\n",
       "      <td>0.035033</td>\n",
       "      <td>180.780209</td>\n",
       "      <td>0.063333</td>\n",
       "    </tr>\n",
       "    <tr>\n",
       "      <th>75</th>\n",
       "      <td>0.035033</td>\n",
       "      <td>123.691722</td>\n",
       "      <td>0.043333</td>\n",
       "    </tr>\n",
       "    <tr>\n",
       "      <th>72</th>\n",
       "      <td>0.035033</td>\n",
       "      <td>95.147479</td>\n",
       "      <td>0.033333</td>\n",
       "    </tr>\n",
       "    <tr>\n",
       "      <th>76</th>\n",
       "      <td>0.035033</td>\n",
       "      <td>85.632731</td>\n",
       "      <td>0.030000</td>\n",
       "    </tr>\n",
       "    <tr>\n",
       "      <th>70</th>\n",
       "      <td>0.035033</td>\n",
       "      <td>85.632731</td>\n",
       "      <td>0.030000</td>\n",
       "    </tr>\n",
       "    <tr>\n",
       "      <th>71</th>\n",
       "      <td>0.035033</td>\n",
       "      <td>57.088487</td>\n",
       "      <td>0.020000</td>\n",
       "    </tr>\n",
       "    <tr>\n",
       "      <th>68</th>\n",
       "      <td>0.035033</td>\n",
       "      <td>57.088487</td>\n",
       "      <td>0.020000</td>\n",
       "    </tr>\n",
       "    <tr>\n",
       "      <th>73</th>\n",
       "      <td>0.035033</td>\n",
       "      <td>47.573739</td>\n",
       "      <td>0.016667</td>\n",
       "    </tr>\n",
       "    <tr>\n",
       "      <th>...</th>\n",
       "      <td>...</td>\n",
       "      <td>...</td>\n",
       "      <td>...</td>\n",
       "    </tr>\n",
       "    <tr>\n",
       "      <th>47</th>\n",
       "      <td>0.035033</td>\n",
       "      <td>9.514748</td>\n",
       "      <td>0.003333</td>\n",
       "    </tr>\n",
       "    <tr>\n",
       "      <th>74</th>\n",
       "      <td>0.035033</td>\n",
       "      <td>9.514748</td>\n",
       "      <td>0.003333</td>\n",
       "    </tr>\n",
       "    <tr>\n",
       "      <th>11</th>\n",
       "      <td>0.035033</td>\n",
       "      <td>9.389554</td>\n",
       "      <td>0.003289</td>\n",
       "    </tr>\n",
       "    <tr>\n",
       "      <th>45</th>\n",
       "      <td>0.035033</td>\n",
       "      <td>9.358768</td>\n",
       "      <td>0.003279</td>\n",
       "    </tr>\n",
       "    <tr>\n",
       "      <th>5</th>\n",
       "      <td>0.035033</td>\n",
       "      <td>8.420131</td>\n",
       "      <td>0.002950</td>\n",
       "    </tr>\n",
       "    <tr>\n",
       "      <th>0</th>\n",
       "      <td>0.035033</td>\n",
       "      <td>0.000000</td>\n",
       "      <td>0.000000</td>\n",
       "    </tr>\n",
       "    <tr>\n",
       "      <th>51</th>\n",
       "      <td>0.035033</td>\n",
       "      <td>0.000000</td>\n",
       "      <td>0.000000</td>\n",
       "    </tr>\n",
       "    <tr>\n",
       "      <th>1</th>\n",
       "      <td>0.035033</td>\n",
       "      <td>0.000000</td>\n",
       "      <td>0.000000</td>\n",
       "    </tr>\n",
       "    <tr>\n",
       "      <th>4</th>\n",
       "      <td>0.035033</td>\n",
       "      <td>0.000000</td>\n",
       "      <td>0.000000</td>\n",
       "    </tr>\n",
       "    <tr>\n",
       "      <th>6</th>\n",
       "      <td>0.035033</td>\n",
       "      <td>0.000000</td>\n",
       "      <td>0.000000</td>\n",
       "    </tr>\n",
       "    <tr>\n",
       "      <th>7</th>\n",
       "      <td>0.035033</td>\n",
       "      <td>0.000000</td>\n",
       "      <td>0.000000</td>\n",
       "    </tr>\n",
       "    <tr>\n",
       "      <th>8</th>\n",
       "      <td>0.035033</td>\n",
       "      <td>0.000000</td>\n",
       "      <td>0.000000</td>\n",
       "    </tr>\n",
       "    <tr>\n",
       "      <th>9</th>\n",
       "      <td>0.035033</td>\n",
       "      <td>0.000000</td>\n",
       "      <td>0.000000</td>\n",
       "    </tr>\n",
       "    <tr>\n",
       "      <th>10</th>\n",
       "      <td>0.035033</td>\n",
       "      <td>0.000000</td>\n",
       "      <td>0.000000</td>\n",
       "    </tr>\n",
       "    <tr>\n",
       "      <th>12</th>\n",
       "      <td>0.035033</td>\n",
       "      <td>0.000000</td>\n",
       "      <td>0.000000</td>\n",
       "    </tr>\n",
       "    <tr>\n",
       "      <th>13</th>\n",
       "      <td>0.035033</td>\n",
       "      <td>0.000000</td>\n",
       "      <td>0.000000</td>\n",
       "    </tr>\n",
       "    <tr>\n",
       "      <th>16</th>\n",
       "      <td>0.035033</td>\n",
       "      <td>0.000000</td>\n",
       "      <td>0.000000</td>\n",
       "    </tr>\n",
       "    <tr>\n",
       "      <th>19</th>\n",
       "      <td>0.035033</td>\n",
       "      <td>0.000000</td>\n",
       "      <td>0.000000</td>\n",
       "    </tr>\n",
       "    <tr>\n",
       "      <th>20</th>\n",
       "      <td>0.035033</td>\n",
       "      <td>0.000000</td>\n",
       "      <td>0.000000</td>\n",
       "    </tr>\n",
       "    <tr>\n",
       "      <th>23</th>\n",
       "      <td>0.035033</td>\n",
       "      <td>0.000000</td>\n",
       "      <td>0.000000</td>\n",
       "    </tr>\n",
       "    <tr>\n",
       "      <th>25</th>\n",
       "      <td>0.035033</td>\n",
       "      <td>0.000000</td>\n",
       "      <td>0.000000</td>\n",
       "    </tr>\n",
       "    <tr>\n",
       "      <th>26</th>\n",
       "      <td>0.035033</td>\n",
       "      <td>0.000000</td>\n",
       "      <td>0.000000</td>\n",
       "    </tr>\n",
       "    <tr>\n",
       "      <th>28</th>\n",
       "      <td>0.035033</td>\n",
       "      <td>0.000000</td>\n",
       "      <td>0.000000</td>\n",
       "    </tr>\n",
       "    <tr>\n",
       "      <th>30</th>\n",
       "      <td>0.035033</td>\n",
       "      <td>0.000000</td>\n",
       "      <td>0.000000</td>\n",
       "    </tr>\n",
       "    <tr>\n",
       "      <th>31</th>\n",
       "      <td>0.035033</td>\n",
       "      <td>0.000000</td>\n",
       "      <td>0.000000</td>\n",
       "    </tr>\n",
       "    <tr>\n",
       "      <th>34</th>\n",
       "      <td>0.035033</td>\n",
       "      <td>0.000000</td>\n",
       "      <td>0.000000</td>\n",
       "    </tr>\n",
       "    <tr>\n",
       "      <th>35</th>\n",
       "      <td>0.035033</td>\n",
       "      <td>0.000000</td>\n",
       "      <td>0.000000</td>\n",
       "    </tr>\n",
       "    <tr>\n",
       "      <th>39</th>\n",
       "      <td>0.035033</td>\n",
       "      <td>0.000000</td>\n",
       "      <td>0.000000</td>\n",
       "    </tr>\n",
       "    <tr>\n",
       "      <th>44</th>\n",
       "      <td>0.035033</td>\n",
       "      <td>0.000000</td>\n",
       "      <td>0.000000</td>\n",
       "    </tr>\n",
       "    <tr>\n",
       "      <th>50</th>\n",
       "      <td>0.035033</td>\n",
       "      <td>0.000000</td>\n",
       "      <td>0.000000</td>\n",
       "    </tr>\n",
       "  </tbody>\n",
       "</table>\n",
       "<p>100 rows × 3 columns</p>\n",
       "</div>"
      ],
      "text/plain": [
       "    baseline  lift_index  lift_positive\n",
       "99  0.035033  742.150333       0.260000\n",
       "94  0.035033  570.884872       0.200000\n",
       "98  0.035033  475.737393       0.166667\n",
       "96  0.035033  475.737393       0.166667\n",
       "93  0.035033  475.737393       0.166667\n",
       "97  0.035033  456.707897       0.160000\n",
       "92  0.035033  428.163654       0.150000\n",
       "85  0.035033  428.163654       0.150000\n",
       "89  0.035033  418.648906       0.146667\n",
       "95  0.035033  409.134158       0.143333\n",
       "90  0.035033  409.134158       0.143333\n",
       "84  0.035033  390.104662       0.136667\n",
       "80  0.035033  333.016175       0.116667\n",
       "82  0.035033  324.583372       0.113712\n",
       "91  0.035033  323.501427       0.113333\n",
       "88  0.035033  313.986679       0.110000\n",
       "83  0.035033  304.471931       0.106667\n",
       "86  0.035033  294.957184       0.103333\n",
       "87  0.035033  247.383444       0.086667\n",
       "81  0.035033  218.112160       0.076412\n",
       "79  0.035033  209.324453       0.073333\n",
       "78  0.035033  199.809705       0.070000\n",
       "77  0.035033  180.780209       0.063333\n",
       "75  0.035033  123.691722       0.043333\n",
       "72  0.035033   95.147479       0.033333\n",
       "76  0.035033   85.632731       0.030000\n",
       "70  0.035033   85.632731       0.030000\n",
       "71  0.035033   57.088487       0.020000\n",
       "68  0.035033   57.088487       0.020000\n",
       "73  0.035033   47.573739       0.016667\n",
       "..       ...         ...            ...\n",
       "47  0.035033    9.514748       0.003333\n",
       "74  0.035033    9.514748       0.003333\n",
       "11  0.035033    9.389554       0.003289\n",
       "45  0.035033    9.358768       0.003279\n",
       "5   0.035033    8.420131       0.002950\n",
       "0   0.035033    0.000000       0.000000\n",
       "51  0.035033    0.000000       0.000000\n",
       "1   0.035033    0.000000       0.000000\n",
       "4   0.035033    0.000000       0.000000\n",
       "6   0.035033    0.000000       0.000000\n",
       "7   0.035033    0.000000       0.000000\n",
       "8   0.035033    0.000000       0.000000\n",
       "9   0.035033    0.000000       0.000000\n",
       "10  0.035033    0.000000       0.000000\n",
       "12  0.035033    0.000000       0.000000\n",
       "13  0.035033    0.000000       0.000000\n",
       "16  0.035033    0.000000       0.000000\n",
       "19  0.035033    0.000000       0.000000\n",
       "20  0.035033    0.000000       0.000000\n",
       "23  0.035033    0.000000       0.000000\n",
       "25  0.035033    0.000000       0.000000\n",
       "26  0.035033    0.000000       0.000000\n",
       "28  0.035033    0.000000       0.000000\n",
       "30  0.035033    0.000000       0.000000\n",
       "31  0.035033    0.000000       0.000000\n",
       "34  0.035033    0.000000       0.000000\n",
       "35  0.035033    0.000000       0.000000\n",
       "39  0.035033    0.000000       0.000000\n",
       "44  0.035033    0.000000       0.000000\n",
       "50  0.035033    0.000000       0.000000\n",
       "\n",
       "[100 rows x 3 columns]"
      ]
     },
     "execution_count": 513,
     "metadata": {},
     "output_type": "execute_result"
    }
   ],
   "source": [
    "liftTable(y_test,y_probas,100)"
   ]
  },
  {
   "cell_type": "code",
   "execution_count": 451,
   "metadata": {},
   "outputs": [
    {
     "data": {
      "image/png": "[encoded data removed]",
      "text/plain": [
       "<matplotlib.figure.Figure at 0x1ca1432c860>"
      ]
     },
     "metadata": {},
     "output_type": "display_data"
    }
   ],
   "source": [
    "plotLiftChart(y_test,y_probas)"
   ]
  },
  {
   "cell_type": "markdown",
   "metadata": {},
   "source": [
    "#### Random Forest Classifier"
   ]
  },
  {
   "cell_type": "code",
   "execution_count": 483,
   "metadata": {},
   "outputs": [],
   "source": [
    "X_val =validation_df[fpr_list]\n",
    "X = training_df[fpr_list]\n",
    "X_train, X_test, y_train, y_test = train_test_split(X, y, test_size=0.3, random_state=42)\n",
    "\n",
    "scaler = preprocessing.MinMaxScaler()\n",
    "X_train = scaler.fit_transform( X_train )\n",
    "X_test= scaler.transform( X_test)\n",
    "X_val= scaler.transform( X_val)"
   ]
  },
  {
   "cell_type": "code",
   "execution_count": 484,
   "metadata": {},
   "outputs": [],
   "source": [
    "y_probas = clf.predict_proba(X_test)\n",
    "y_probas=y_probas[:,1]"
   ]
  },
  {
   "cell_type": "code",
   "execution_count": 485,
   "metadata": {},
   "outputs": [
    {
     "data": {
      "image/png": "[encoded data removed]",
      "text/plain": [
       "<matplotlib.figure.Figure at 0x1ca1595df28>"
      ]
     },
     "metadata": {},
     "output_type": "display_data"
    }
   ],
   "source": [
    "plotLiftChart(y_test,y_probas)"
   ]
  },
  {
   "cell_type": "code",
   "execution_count": 486,
   "metadata": {},
   "outputs": [
    {
     "data": {
      "text/html": [
       "<div>\n",
       "<style>\n",
       "    .dataframe thead tr:only-child th {\n",
       "        text-align: right;\n",
       "    }\n",
       "\n",
       "    .dataframe thead th {\n",
       "        text-align: left;\n",
       "    }\n",
       "\n",
       "    .dataframe tbody tr th {\n",
       "        vertical-align: top;\n",
       "    }\n",
       "</style>\n",
       "<table border=\"1\" class=\"dataframe\">\n",
       "  <thead>\n",
       "    <tr style=\"text-align: right;\">\n",
       "      <th></th>\n",
       "      <th>baseline</th>\n",
       "      <th>lift_index</th>\n",
       "      <th>lift_positive</th>\n",
       "    </tr>\n",
       "  </thead>\n",
       "  <tbody>\n",
       "    <tr>\n",
       "      <th>3</th>\n",
       "      <td>0.035033</td>\n",
       "      <td>346.002366</td>\n",
       "      <td>0.121216</td>\n",
       "    </tr>\n",
       "    <tr>\n",
       "      <th>2</th>\n",
       "      <td>0.035033</td>\n",
       "      <td>43.078328</td>\n",
       "      <td>0.015092</td>\n",
       "    </tr>\n",
       "    <tr>\n",
       "      <th>1</th>\n",
       "      <td>0.035033</td>\n",
       "      <td>7.841825</td>\n",
       "      <td>0.002747</td>\n",
       "    </tr>\n",
       "    <tr>\n",
       "      <th>0</th>\n",
       "      <td>0.035033</td>\n",
       "      <td>3.804885</td>\n",
       "      <td>0.001333</td>\n",
       "    </tr>\n",
       "  </tbody>\n",
       "</table>\n",
       "</div>"
      ],
      "text/plain": [
       "   baseline  lift_index  lift_positive\n",
       "3  0.035033  346.002366       0.121216\n",
       "2  0.035033   43.078328       0.015092\n",
       "1  0.035033    7.841825       0.002747\n",
       "0  0.035033    3.804885       0.001333"
      ]
     },
     "execution_count": 486,
     "metadata": {},
     "output_type": "execute_result"
    }
   ],
   "source": [
    "liftTable(y_test,y_probas,4)"
   ]
  },
  {
   "cell_type": "code",
   "execution_count": null,
   "metadata": {},
   "outputs": [],
   "source": []
  }
 ],
 "metadata": {
  "kernelspec": {
   "display_name": "Python 3",
   "language": "python",
   "name": "python3"
  },
  "language_info": {
   "codemirror_mode": {
    "name": "ipython",
    "version": 3
   },
   "file_extension": ".py",
   "mimetype": "text/x-python",
   "name": "python",
   "nbconvert_exporter": "python",
   "pygments_lexer": "ipython3",
   "version": "3.6.1"
  }
 },
 "nbformat": 4,
 "nbformat_minor": 2
}
